{
  "nbformat": 4,
  "nbformat_minor": 0,
  "metadata": {
    "colab": {
      "provenance": []
    },
    "kernelspec": {
      "name": "python3",
      "display_name": "Python 3"
    },
    "language_info": {
      "name": "python"
    }
  },
  "cells": [
    {
      "cell_type": "markdown",
      "source": [
        "This is a Exercise Performed to Predict Case-Shiller U.S. National Home Price Index from https://fred.stlouisfed.org/series/CSUSHPISA using the last 20 Years HPI (Home Price Index) using Time Series Forecasting ARIMA Model. This is an Example Model to showcase the Prediction Logic from the past data. We will be predicting the CSUSHPISA for next 7 days at any point of Time.\n",
        "\n",
        "There are various factors affecting the Home Price Index some of which are mentioned as below\n",
        "\n",
        "- The Case-Shiller is based on the repeat-sales pricing technique developed by the economists for whom the index is named.\n",
        "- The national Case-Shiller index is supplemented by composite indexes tracking prices in 10 and 20 key U.S. metro areas, as well as indexes tracking sales based on the home's price relative to the market average.\n",
        "- The index is based on successive arms-length sales of the same house recorded in local property records.\n",
        "- Housing prices as reflected by the Case-Shiller and similar indexes are an important factor in economic performance.\n",
        "\n",
        "The National Home Price Index tracks changes in the value of U.S. single-family homes on a monthly basis. The national index is a composite of home price indexes from each of nine U.S. regions based on census divisions.\n",
        "\n",
        "The 10-city composite index covers 10 metro areas including Boston, Chicago, Denver, Las Vegas, Los Angeles, Miami, New York, San Diego, San Francisco, and Washington, D.C.\n",
        "\n",
        "The 20-city composite index, includes all of the metro areas above along with Atlanta, Charlotte, Cleveland, Dallas, Detroit, Minneapolis, Phoenix, Portland (Oregon), Seattle, and Tampa.\n",
        "\n",
        "##What Case-Shiller Does and Doesn't Track\n",
        "\n",
        "Each index measures changes in the prices of single-family, detached homes using the repeat-sales method, which compares the sale price of a given property in successive transactions. That means new homes must be bought and then resold before their prices can be included in the Case-Shiller sample.\n",
        "\n",
        "Case-Shiller indexes track so-called arms-length sale transactions: those where the sale price reflects market value because the buyer and seller were each acting solely in their own best interest. Property sales to family members and repossessions by banks at the start of the foreclosure process are excluded. So are sales after which the property designation changes (for example from a single-family home to condominium), or those with a price suggestive of a data error.\n",
        "\n",
        "##The Case-Shiller Methodology\n",
        "\n",
        "The sale price of the same single-family home in successive arms-length transactions, known as a \"sale pair,\" is the basic data unit of the Case-Shiller indexes. For each home in the most recent monthly sample of recorded transactions, CoreLogic attempts to identify a prior arms-length transaction to assemble such pairs.\n",
        "\n",
        "Sales pairs are assigned to one of three price tiers—low, medium, or high—based on the first sale price in a sale pair. These data sets are used to produce Low-Tier, Medium-Tier, and High-Tier indexes using the same methodology as for the city composite indexes.\n",
        "\n",
        "The index weighting methodology lowers the weight of the 10% to 15% of sales pairs with the largest price changes, and of those with more time between the two transactions as more likely to reflect non-market factors.\n",
        "\n",
        "Each month's index data reflects transactions for three months, so that the Case-Shiller indexes for June, published at the end of August, reflect transaction prices in April, May, and June, for example.\n",
        "\n",
        "Source: https://www.investopedia.com/articles/mortgages-real-estate/10/understanding-case-shiller-index.asp#:~:text=The%20national%20Case%2DShiller%20index,recorded%20in%20local%20property%20records."
      ],
      "metadata": {
        "id": "dzNYk3kKGO4N"
      }
    },
    {
      "cell_type": "markdown",
      "source": [
        "##Importing Basic Libraries and Data from Website\n",
        "\n",
        "https://fred.stlouisfed.org/series/CSUSHPISA"
      ],
      "metadata": {
        "id": "6Y27iPqRihlB"
      }
    },
    {
      "cell_type": "code",
      "execution_count": 127,
      "metadata": {
        "id": "f_OzLf3uhHIx"
      },
      "outputs": [],
      "source": [
        "import numpy as np\n",
        "import pandas as pd\n",
        "url = \"https://fred.stlouisfed.org/graph/fredgraph.csv?bgcolor=%23e1e9f0&chart_type=line&drp=0&fo=open%20sans&graph_bgcolor=%23ffffff&height=450&mode=fred&recession_bars=on&txtcolor=%23444444&ts=12&tts=12&width=1138&nt=0&thu=0&trc=0&show_legend=yes&show_axis_titles=yes&show_tooltip=yes&id=CSUSHPISA&scale=left&cosd=1987-01-01&coed=2023-07-01&line_color=%234572a7&link_values=false&line_style=solid&mark_type=none&mw=3&lw=2&ost=-99999&oet=99999&mma=0&fml=a&fq=Monthly&fam=avg&fgst=lin&fgsnd=2020-02-01&line_index=1&transformation=lin&vintage_date=2023-09-26&revision_date=2023-09-26&nd=1987-01-01\"\n",
        "df= pd.read_csv(url)"
      ]
    },
    {
      "cell_type": "markdown",
      "source": [
        "##Importing Basic Visualisation Libraries"
      ],
      "metadata": {
        "id": "J7xgYhQ5jl9x"
      }
    },
    {
      "cell_type": "code",
      "source": [
        "import matplotlib\n",
        "import matplotlib.pyplot as plt\n",
        "import seaborn as sns\n",
        "%matplotlib inline\n",
        "import warnings\n",
        "warnings.filterwarnings(\"ignore\")\n",
        "import plotly as py\n",
        "import plotly.graph_objs as go\n",
        "from plotly.graph_objs import Scatter, Layout\n",
        "import gc\n",
        "import os\n",
        "py.offline.init_notebook_mode(connected = True)\n",
        "import datetime as dt\n",
        "plt.rcParams['figure.dpi'] = 140"
      ],
      "metadata": {
        "colab": {
          "base_uri": "https://localhost:8080/",
          "height": 17
        },
        "id": "gvCVyJcYjex_",
        "outputId": "a9451c73-f17a-4d7a-cf21-8d89cb03151b"
      },
      "execution_count": 128,
      "outputs": [
        {
          "output_type": "display_data",
          "data": {
            "text/html": [
              "        <script type=\"text/javascript\">\n",
              "        window.PlotlyConfig = {MathJaxConfig: 'local'};\n",
              "        if (window.MathJax && window.MathJax.Hub && window.MathJax.Hub.Config) {window.MathJax.Hub.Config({SVG: {font: \"STIX-Web\"}});}\n",
              "        if (typeof require !== 'undefined') {\n",
              "        require.undef(\"plotly\");\n",
              "        requirejs.config({\n",
              "            paths: {\n",
              "                'plotly': ['https://cdn.plot.ly/plotly-2.24.1.min']\n",
              "            }\n",
              "        });\n",
              "        require(['plotly'], function(Plotly) {\n",
              "            window._Plotly = Plotly;\n",
              "        });\n",
              "        }\n",
              "        </script>\n",
              "        "
            ]
          },
          "metadata": {}
        }
      ]
    },
    {
      "cell_type": "markdown",
      "source": [
        "##CHECKING VERSIONS OF LIBRARIES"
      ],
      "metadata": {
        "id": "6x3t9QZejxgn"
      }
    },
    {
      "cell_type": "code",
      "source": [
        "print('Numpy Version',np.__version__)\n",
        "print('Pandas Version',pd.__version__)\n",
        "print('Seaborn Version',sns.__version__)\n",
        "print('Matplotlib Version',matplotlib.__version__)"
      ],
      "metadata": {
        "colab": {
          "base_uri": "https://localhost:8080/"
        },
        "id": "1PBoZZ4zj1u5",
        "outputId": "31452805-b7ff-403d-9eb0-d1bb5cd4edd8"
      },
      "execution_count": 129,
      "outputs": [
        {
          "output_type": "stream",
          "name": "stdout",
          "text": [
            "Numpy Version 1.23.5\n",
            "Pandas Version 1.5.3\n",
            "Seaborn Version 0.12.2\n",
            "Matplotlib Version 3.7.1\n"
          ]
        }
      ]
    },
    {
      "cell_type": "markdown",
      "source": [
        "##Exploratory Data Analysis"
      ],
      "metadata": {
        "id": "62Zyv9ieizju"
      }
    },
    {
      "cell_type": "markdown",
      "source": [
        "##READING THE DATA AND CHECKING THE FIRST 5 ROWS AND COLUMNS"
      ],
      "metadata": {
        "id": "t_RyJbRSj62A"
      }
    },
    {
      "cell_type": "code",
      "source": [
        "df.head()"
      ],
      "metadata": {
        "colab": {
          "base_uri": "https://localhost:8080/",
          "height": 206
        },
        "id": "SNAIDzlFieKU",
        "outputId": "2dc80f4a-147c-4435-a930-2b59c20f3e17"
      },
      "execution_count": 130,
      "outputs": [
        {
          "output_type": "execute_result",
          "data": {
            "text/plain": [
              "         DATE  CSUSHPISA\n",
              "0  1987-01-01     63.964\n",
              "1  1987-02-01     64.424\n",
              "2  1987-03-01     64.736\n",
              "3  1987-04-01     65.132\n",
              "4  1987-05-01     65.563"
            ],
            "text/html": [
              "\n",
              "  <div id=\"df-07b3ae5b-4f8b-438a-9405-931ebe68c316\" class=\"colab-df-container\">\n",
              "    <div>\n",
              "<style scoped>\n",
              "    .dataframe tbody tr th:only-of-type {\n",
              "        vertical-align: middle;\n",
              "    }\n",
              "\n",
              "    .dataframe tbody tr th {\n",
              "        vertical-align: top;\n",
              "    }\n",
              "\n",
              "    .dataframe thead th {\n",
              "        text-align: right;\n",
              "    }\n",
              "</style>\n",
              "<table border=\"1\" class=\"dataframe\">\n",
              "  <thead>\n",
              "    <tr style=\"text-align: right;\">\n",
              "      <th></th>\n",
              "      <th>DATE</th>\n",
              "      <th>CSUSHPISA</th>\n",
              "    </tr>\n",
              "  </thead>\n",
              "  <tbody>\n",
              "    <tr>\n",
              "      <th>0</th>\n",
              "      <td>1987-01-01</td>\n",
              "      <td>63.964</td>\n",
              "    </tr>\n",
              "    <tr>\n",
              "      <th>1</th>\n",
              "      <td>1987-02-01</td>\n",
              "      <td>64.424</td>\n",
              "    </tr>\n",
              "    <tr>\n",
              "      <th>2</th>\n",
              "      <td>1987-03-01</td>\n",
              "      <td>64.736</td>\n",
              "    </tr>\n",
              "    <tr>\n",
              "      <th>3</th>\n",
              "      <td>1987-04-01</td>\n",
              "      <td>65.132</td>\n",
              "    </tr>\n",
              "    <tr>\n",
              "      <th>4</th>\n",
              "      <td>1987-05-01</td>\n",
              "      <td>65.563</td>\n",
              "    </tr>\n",
              "  </tbody>\n",
              "</table>\n",
              "</div>\n",
              "    <div class=\"colab-df-buttons\">\n",
              "\n",
              "  <div class=\"colab-df-container\">\n",
              "    <button class=\"colab-df-convert\" onclick=\"convertToInteractive('df-07b3ae5b-4f8b-438a-9405-931ebe68c316')\"\n",
              "            title=\"Convert this dataframe to an interactive table.\"\n",
              "            style=\"display:none;\">\n",
              "\n",
              "  <svg xmlns=\"http://www.w3.org/2000/svg\" height=\"24px\" viewBox=\"0 -960 960 960\">\n",
              "    <path d=\"M120-120v-720h720v720H120Zm60-500h600v-160H180v160Zm220 220h160v-160H400v160Zm0 220h160v-160H400v160ZM180-400h160v-160H180v160Zm440 0h160v-160H620v160ZM180-180h160v-160H180v160Zm440 0h160v-160H620v160Z\"/>\n",
              "  </svg>\n",
              "    </button>\n",
              "\n",
              "  <style>\n",
              "    .colab-df-container {\n",
              "      display:flex;\n",
              "      gap: 12px;\n",
              "    }\n",
              "\n",
              "    .colab-df-convert {\n",
              "      background-color: #E8F0FE;\n",
              "      border: none;\n",
              "      border-radius: 50%;\n",
              "      cursor: pointer;\n",
              "      display: none;\n",
              "      fill: #1967D2;\n",
              "      height: 32px;\n",
              "      padding: 0 0 0 0;\n",
              "      width: 32px;\n",
              "    }\n",
              "\n",
              "    .colab-df-convert:hover {\n",
              "      background-color: #E2EBFA;\n",
              "      box-shadow: 0px 1px 2px rgba(60, 64, 67, 0.3), 0px 1px 3px 1px rgba(60, 64, 67, 0.15);\n",
              "      fill: #174EA6;\n",
              "    }\n",
              "\n",
              "    .colab-df-buttons div {\n",
              "      margin-bottom: 4px;\n",
              "    }\n",
              "\n",
              "    [theme=dark] .colab-df-convert {\n",
              "      background-color: #3B4455;\n",
              "      fill: #D2E3FC;\n",
              "    }\n",
              "\n",
              "    [theme=dark] .colab-df-convert:hover {\n",
              "      background-color: #434B5C;\n",
              "      box-shadow: 0px 1px 3px 1px rgba(0, 0, 0, 0.15);\n",
              "      filter: drop-shadow(0px 1px 2px rgba(0, 0, 0, 0.3));\n",
              "      fill: #FFFFFF;\n",
              "    }\n",
              "  </style>\n",
              "\n",
              "    <script>\n",
              "      const buttonEl =\n",
              "        document.querySelector('#df-07b3ae5b-4f8b-438a-9405-931ebe68c316 button.colab-df-convert');\n",
              "      buttonEl.style.display =\n",
              "        google.colab.kernel.accessAllowed ? 'block' : 'none';\n",
              "\n",
              "      async function convertToInteractive(key) {\n",
              "        const element = document.querySelector('#df-07b3ae5b-4f8b-438a-9405-931ebe68c316');\n",
              "        const dataTable =\n",
              "          await google.colab.kernel.invokeFunction('convertToInteractive',\n",
              "                                                    [key], {});\n",
              "        if (!dataTable) return;\n",
              "\n",
              "        const docLinkHtml = 'Like what you see? Visit the ' +\n",
              "          '<a target=\"_blank\" href=https://colab.research.google.com/notebooks/data_table.ipynb>data table notebook</a>'\n",
              "          + ' to learn more about interactive tables.';\n",
              "        element.innerHTML = '';\n",
              "        dataTable['output_type'] = 'display_data';\n",
              "        await google.colab.output.renderOutput(dataTable, element);\n",
              "        const docLink = document.createElement('div');\n",
              "        docLink.innerHTML = docLinkHtml;\n",
              "        element.appendChild(docLink);\n",
              "      }\n",
              "    </script>\n",
              "  </div>\n",
              "\n",
              "\n",
              "<div id=\"df-5720ce2a-115e-4289-a53f-9063750e6854\">\n",
              "  <button class=\"colab-df-quickchart\" onclick=\"quickchart('df-5720ce2a-115e-4289-a53f-9063750e6854')\"\n",
              "            title=\"Suggest charts.\"\n",
              "            style=\"display:none;\">\n",
              "\n",
              "<svg xmlns=\"http://www.w3.org/2000/svg\" height=\"24px\"viewBox=\"0 0 24 24\"\n",
              "     width=\"24px\">\n",
              "    <g>\n",
              "        <path d=\"M19 3H5c-1.1 0-2 .9-2 2v14c0 1.1.9 2 2 2h14c1.1 0 2-.9 2-2V5c0-1.1-.9-2-2-2zM9 17H7v-7h2v7zm4 0h-2V7h2v10zm4 0h-2v-4h2v4z\"/>\n",
              "    </g>\n",
              "</svg>\n",
              "  </button>\n",
              "\n",
              "<style>\n",
              "  .colab-df-quickchart {\n",
              "      --bg-color: #E8F0FE;\n",
              "      --fill-color: #1967D2;\n",
              "      --hover-bg-color: #E2EBFA;\n",
              "      --hover-fill-color: #174EA6;\n",
              "      --disabled-fill-color: #AAA;\n",
              "      --disabled-bg-color: #DDD;\n",
              "  }\n",
              "\n",
              "  [theme=dark] .colab-df-quickchart {\n",
              "      --bg-color: #3B4455;\n",
              "      --fill-color: #D2E3FC;\n",
              "      --hover-bg-color: #434B5C;\n",
              "      --hover-fill-color: #FFFFFF;\n",
              "      --disabled-bg-color: #3B4455;\n",
              "      --disabled-fill-color: #666;\n",
              "  }\n",
              "\n",
              "  .colab-df-quickchart {\n",
              "    background-color: var(--bg-color);\n",
              "    border: none;\n",
              "    border-radius: 50%;\n",
              "    cursor: pointer;\n",
              "    display: none;\n",
              "    fill: var(--fill-color);\n",
              "    height: 32px;\n",
              "    padding: 0;\n",
              "    width: 32px;\n",
              "  }\n",
              "\n",
              "  .colab-df-quickchart:hover {\n",
              "    background-color: var(--hover-bg-color);\n",
              "    box-shadow: 0 1px 2px rgba(60, 64, 67, 0.3), 0 1px 3px 1px rgba(60, 64, 67, 0.15);\n",
              "    fill: var(--button-hover-fill-color);\n",
              "  }\n",
              "\n",
              "  .colab-df-quickchart-complete:disabled,\n",
              "  .colab-df-quickchart-complete:disabled:hover {\n",
              "    background-color: var(--disabled-bg-color);\n",
              "    fill: var(--disabled-fill-color);\n",
              "    box-shadow: none;\n",
              "  }\n",
              "\n",
              "  .colab-df-spinner {\n",
              "    border: 2px solid var(--fill-color);\n",
              "    border-color: transparent;\n",
              "    border-bottom-color: var(--fill-color);\n",
              "    animation:\n",
              "      spin 1s steps(1) infinite;\n",
              "  }\n",
              "\n",
              "  @keyframes spin {\n",
              "    0% {\n",
              "      border-color: transparent;\n",
              "      border-bottom-color: var(--fill-color);\n",
              "      border-left-color: var(--fill-color);\n",
              "    }\n",
              "    20% {\n",
              "      border-color: transparent;\n",
              "      border-left-color: var(--fill-color);\n",
              "      border-top-color: var(--fill-color);\n",
              "    }\n",
              "    30% {\n",
              "      border-color: transparent;\n",
              "      border-left-color: var(--fill-color);\n",
              "      border-top-color: var(--fill-color);\n",
              "      border-right-color: var(--fill-color);\n",
              "    }\n",
              "    40% {\n",
              "      border-color: transparent;\n",
              "      border-right-color: var(--fill-color);\n",
              "      border-top-color: var(--fill-color);\n",
              "    }\n",
              "    60% {\n",
              "      border-color: transparent;\n",
              "      border-right-color: var(--fill-color);\n",
              "    }\n",
              "    80% {\n",
              "      border-color: transparent;\n",
              "      border-right-color: var(--fill-color);\n",
              "      border-bottom-color: var(--fill-color);\n",
              "    }\n",
              "    90% {\n",
              "      border-color: transparent;\n",
              "      border-bottom-color: var(--fill-color);\n",
              "    }\n",
              "  }\n",
              "</style>\n",
              "\n",
              "  <script>\n",
              "    async function quickchart(key) {\n",
              "      const quickchartButtonEl =\n",
              "        document.querySelector('#' + key + ' button');\n",
              "      quickchartButtonEl.disabled = true;  // To prevent multiple clicks.\n",
              "      quickchartButtonEl.classList.add('colab-df-spinner');\n",
              "      try {\n",
              "        const charts = await google.colab.kernel.invokeFunction(\n",
              "            'suggestCharts', [key], {});\n",
              "      } catch (error) {\n",
              "        console.error('Error during call to suggestCharts:', error);\n",
              "      }\n",
              "      quickchartButtonEl.classList.remove('colab-df-spinner');\n",
              "      quickchartButtonEl.classList.add('colab-df-quickchart-complete');\n",
              "    }\n",
              "    (() => {\n",
              "      let quickchartButtonEl =\n",
              "        document.querySelector('#df-5720ce2a-115e-4289-a53f-9063750e6854 button');\n",
              "      quickchartButtonEl.style.display =\n",
              "        google.colab.kernel.accessAllowed ? 'block' : 'none';\n",
              "    })();\n",
              "  </script>\n",
              "</div>\n",
              "    </div>\n",
              "  </div>\n"
            ]
          },
          "metadata": {},
          "execution_count": 130
        }
      ]
    },
    {
      "cell_type": "markdown",
      "source": [
        "CHECKING SHAPE OF THE DATA"
      ],
      "metadata": {
        "id": "2obntfPNkNeL"
      }
    },
    {
      "cell_type": "code",
      "source": [
        "df.shape"
      ],
      "metadata": {
        "colab": {
          "base_uri": "https://localhost:8080/"
        },
        "id": "jQ-QpipWkIIp",
        "outputId": "7995f6ac-d8f6-4cb9-9b33-37b81477996a"
      },
      "execution_count": 131,
      "outputs": [
        {
          "output_type": "execute_result",
          "data": {
            "text/plain": [
              "(439, 2)"
            ]
          },
          "metadata": {},
          "execution_count": 131
        }
      ]
    },
    {
      "cell_type": "markdown",
      "source": [
        "CHECKING BASIC INFO OF THE DATASET"
      ],
      "metadata": {
        "id": "eh3NGk-BkWfc"
      }
    },
    {
      "cell_type": "code",
      "source": [
        "df.info()"
      ],
      "metadata": {
        "colab": {
          "base_uri": "https://localhost:8080/"
        },
        "id": "s5KBALtGkPDs",
        "outputId": "5cc2d930-dc1a-4e27-e07b-d374b56d2e7d"
      },
      "execution_count": 132,
      "outputs": [
        {
          "output_type": "stream",
          "name": "stdout",
          "text": [
            "<class 'pandas.core.frame.DataFrame'>\n",
            "RangeIndex: 439 entries, 0 to 438\n",
            "Data columns (total 2 columns):\n",
            " #   Column     Non-Null Count  Dtype  \n",
            "---  ------     --------------  -----  \n",
            " 0   DATE       439 non-null    object \n",
            " 1   CSUSHPISA  439 non-null    float64\n",
            "dtypes: float64(1), object(1)\n",
            "memory usage: 7.0+ KB\n"
          ]
        }
      ]
    },
    {
      "cell_type": "markdown",
      "source": [
        "CHECKING FOR MISSING VALUES"
      ],
      "metadata": {
        "id": "xRjus1c0ka3R"
      }
    },
    {
      "cell_type": "code",
      "source": [
        "#MISSING VALUES\n",
        "\n",
        "for i in df.columns:\n",
        "    null_rate = df[i].isnull().sum() / len(df) * 100\n",
        "    if null_rate == 0 :\n",
        "        print(\"{} null rate: {}%\".format(i,round(null_rate,2)))"
      ],
      "metadata": {
        "colab": {
          "base_uri": "https://localhost:8080/"
        },
        "id": "jZS7hpMUkYHp",
        "outputId": "69c39d4c-2435-49b2-9f84-ca8c060a5672"
      },
      "execution_count": 133,
      "outputs": [
        {
          "output_type": "stream",
          "name": "stdout",
          "text": [
            "DATE null rate: 0.0%\n",
            "CSUSHPISA null rate: 0.0%\n"
          ]
        }
      ]
    },
    {
      "cell_type": "code",
      "source": [
        "#Number of Missing Values\n",
        "df_na= df.isna().sum()\n",
        "df_na[df_na.values > 0].sort_values(ascending=False)"
      ],
      "metadata": {
        "colab": {
          "base_uri": "https://localhost:8080/"
        },
        "id": "s1Eg4aAFkdXm",
        "outputId": "b7e17a3e-24c9-4080-92a9-941e9dffe42f"
      },
      "execution_count": 134,
      "outputs": [
        {
          "output_type": "execute_result",
          "data": {
            "text/plain": [
              "Series([], dtype: int64)"
            ]
          },
          "metadata": {},
          "execution_count": 134
        }
      ]
    },
    {
      "cell_type": "markdown",
      "source": [
        "No Missing Values"
      ],
      "metadata": {
        "id": "tlOeOH8ql7TP"
      }
    },
    {
      "cell_type": "markdown",
      "source": [
        "DESCRIBE THE DATA"
      ],
      "metadata": {
        "id": "FXx9dL2SmCXp"
      }
    },
    {
      "cell_type": "code",
      "source": [
        "df.describe().T.apply(lambda s: s.apply('{0:.5f}'.format))"
      ],
      "metadata": {
        "colab": {
          "base_uri": "https://localhost:8080/",
          "height": 81
        },
        "id": "EJm2PmtFl3H7",
        "outputId": "69bdac6f-9d21-49e0-eaba-33d5c34150b3"
      },
      "execution_count": 135,
      "outputs": [
        {
          "output_type": "execute_result",
          "data": {
            "text/plain": [
              "               count       mean       std       min       25%        50%  \\\n",
              "CSUSHPISA  439.00000  141.14356  60.26296  63.96400  82.07250  140.35000   \n",
              "\n",
              "                 75%        max  \n",
              "CSUSHPISA  178.14050  306.72000  "
            ],
            "text/html": [
              "\n",
              "  <div id=\"df-700f737e-b036-4a1f-8283-2816181d382d\" class=\"colab-df-container\">\n",
              "    <div>\n",
              "<style scoped>\n",
              "    .dataframe tbody tr th:only-of-type {\n",
              "        vertical-align: middle;\n",
              "    }\n",
              "\n",
              "    .dataframe tbody tr th {\n",
              "        vertical-align: top;\n",
              "    }\n",
              "\n",
              "    .dataframe thead th {\n",
              "        text-align: right;\n",
              "    }\n",
              "</style>\n",
              "<table border=\"1\" class=\"dataframe\">\n",
              "  <thead>\n",
              "    <tr style=\"text-align: right;\">\n",
              "      <th></th>\n",
              "      <th>count</th>\n",
              "      <th>mean</th>\n",
              "      <th>std</th>\n",
              "      <th>min</th>\n",
              "      <th>25%</th>\n",
              "      <th>50%</th>\n",
              "      <th>75%</th>\n",
              "      <th>max</th>\n",
              "    </tr>\n",
              "  </thead>\n",
              "  <tbody>\n",
              "    <tr>\n",
              "      <th>CSUSHPISA</th>\n",
              "      <td>439.00000</td>\n",
              "      <td>141.14356</td>\n",
              "      <td>60.26296</td>\n",
              "      <td>63.96400</td>\n",
              "      <td>82.07250</td>\n",
              "      <td>140.35000</td>\n",
              "      <td>178.14050</td>\n",
              "      <td>306.72000</td>\n",
              "    </tr>\n",
              "  </tbody>\n",
              "</table>\n",
              "</div>\n",
              "    <div class=\"colab-df-buttons\">\n",
              "\n",
              "  <div class=\"colab-df-container\">\n",
              "    <button class=\"colab-df-convert\" onclick=\"convertToInteractive('df-700f737e-b036-4a1f-8283-2816181d382d')\"\n",
              "            title=\"Convert this dataframe to an interactive table.\"\n",
              "            style=\"display:none;\">\n",
              "\n",
              "  <svg xmlns=\"http://www.w3.org/2000/svg\" height=\"24px\" viewBox=\"0 -960 960 960\">\n",
              "    <path d=\"M120-120v-720h720v720H120Zm60-500h600v-160H180v160Zm220 220h160v-160H400v160Zm0 220h160v-160H400v160ZM180-400h160v-160H180v160Zm440 0h160v-160H620v160ZM180-180h160v-160H180v160Zm440 0h160v-160H620v160Z\"/>\n",
              "  </svg>\n",
              "    </button>\n",
              "\n",
              "  <style>\n",
              "    .colab-df-container {\n",
              "      display:flex;\n",
              "      gap: 12px;\n",
              "    }\n",
              "\n",
              "    .colab-df-convert {\n",
              "      background-color: #E8F0FE;\n",
              "      border: none;\n",
              "      border-radius: 50%;\n",
              "      cursor: pointer;\n",
              "      display: none;\n",
              "      fill: #1967D2;\n",
              "      height: 32px;\n",
              "      padding: 0 0 0 0;\n",
              "      width: 32px;\n",
              "    }\n",
              "\n",
              "    .colab-df-convert:hover {\n",
              "      background-color: #E2EBFA;\n",
              "      box-shadow: 0px 1px 2px rgba(60, 64, 67, 0.3), 0px 1px 3px 1px rgba(60, 64, 67, 0.15);\n",
              "      fill: #174EA6;\n",
              "    }\n",
              "\n",
              "    .colab-df-buttons div {\n",
              "      margin-bottom: 4px;\n",
              "    }\n",
              "\n",
              "    [theme=dark] .colab-df-convert {\n",
              "      background-color: #3B4455;\n",
              "      fill: #D2E3FC;\n",
              "    }\n",
              "\n",
              "    [theme=dark] .colab-df-convert:hover {\n",
              "      background-color: #434B5C;\n",
              "      box-shadow: 0px 1px 3px 1px rgba(0, 0, 0, 0.15);\n",
              "      filter: drop-shadow(0px 1px 2px rgba(0, 0, 0, 0.3));\n",
              "      fill: #FFFFFF;\n",
              "    }\n",
              "  </style>\n",
              "\n",
              "    <script>\n",
              "      const buttonEl =\n",
              "        document.querySelector('#df-700f737e-b036-4a1f-8283-2816181d382d button.colab-df-convert');\n",
              "      buttonEl.style.display =\n",
              "        google.colab.kernel.accessAllowed ? 'block' : 'none';\n",
              "\n",
              "      async function convertToInteractive(key) {\n",
              "        const element = document.querySelector('#df-700f737e-b036-4a1f-8283-2816181d382d');\n",
              "        const dataTable =\n",
              "          await google.colab.kernel.invokeFunction('convertToInteractive',\n",
              "                                                    [key], {});\n",
              "        if (!dataTable) return;\n",
              "\n",
              "        const docLinkHtml = 'Like what you see? Visit the ' +\n",
              "          '<a target=\"_blank\" href=https://colab.research.google.com/notebooks/data_table.ipynb>data table notebook</a>'\n",
              "          + ' to learn more about interactive tables.';\n",
              "        element.innerHTML = '';\n",
              "        dataTable['output_type'] = 'display_data';\n",
              "        await google.colab.output.renderOutput(dataTable, element);\n",
              "        const docLink = document.createElement('div');\n",
              "        docLink.innerHTML = docLinkHtml;\n",
              "        element.appendChild(docLink);\n",
              "      }\n",
              "    </script>\n",
              "  </div>\n",
              "\n",
              "    </div>\n",
              "  </div>\n"
            ]
          },
          "metadata": {},
          "execution_count": 135
        }
      ]
    },
    {
      "cell_type": "code",
      "source": [
        "#Let's look at the distribution of price at different percentiles\n",
        "print(\"0.5% properties have a price lower than {0: .2f}\".format(np.percentile(df[\"CSUSHPISA\"], 0.5)))\n",
        "print(\"  1% properties have a price lower than {0: .2f}\".format(np.percentile(df[\"CSUSHPISA\"], 1)))\n",
        "print(\"  5% properties have a price lower than {0: .2f}\".format(np.percentile(df[\"CSUSHPISA\"], 5)))\n",
        "print(\" 10% properties have a price lower than {0: .2f}\".format(np.percentile(df[\"CSUSHPISA\"], 10)))\n",
        "print(\" 90% properties have a price lower than {0: .2f}\".format(np.percentile(df[\"CSUSHPISA\"], 90)))\n",
        "print(\" 95% properties have a price lower than {0: .2f}\".format(np.percentile(df[\"CSUSHPISA\"], 95)))\n",
        "print(\" 99% properties have a price lower than {0: .2f}\".format(np.percentile(df[\"CSUSHPISA\"], 99)))\n",
        "print(\"99.5% properties have a price lower than {0: .2f}\".format(np.percentile(df[\"CSUSHPISA\"], 99.5)))"
      ],
      "metadata": {
        "colab": {
          "base_uri": "https://localhost:8080/"
        },
        "id": "Vfng__NhmEOJ",
        "outputId": "06395101-e85f-46ad-a6c6-20456f3d5eaa"
      },
      "execution_count": 136,
      "outputs": [
        {
          "output_type": "stream",
          "name": "stdout",
          "text": [
            "0.5% properties have a price lower than  64.81\n",
            "  1% properties have a price lower than  65.76\n",
            "  5% properties have a price lower than  73.03\n",
            " 10% properties have a price lower than  76.10\n",
            " 90% properties have a price lower than  213.04\n",
            " 95% properties have a price lower than  270.79\n",
            " 99% properties have a price lower than  303.38\n",
            "99.5% properties have a price lower than  304.57\n"
          ]
        }
      ]
    },
    {
      "cell_type": "code",
      "source": [
        "## We are interested in building a model to correctly predict the listing price which are greater than 0 and less than 99%\n",
        "listings = df[(df.CSUSHPISA > 64 ) & (df.CSUSHPISA < 303.38 )]"
      ],
      "metadata": {
        "id": "aeu-QJCYmK4n"
      },
      "execution_count": 137,
      "outputs": []
    },
    {
      "cell_type": "code",
      "source": [
        "## Let's create a range variable to understand how many records we have in different slabs\n",
        "\n",
        "price_range = pd.cut(df[\"CSUSHPISA\"],\n",
        "                     bins=[50, 100, 150, 200, 250, 300, df[\"CSUSHPISA\"].max()],\n",
        "                     labels=[\"0-50\", \"51-100\", \"101-150\", \"151-200\", \"201-250\", \"251-300\"])\n",
        "listings[\"price_range\"] = price_range\n",
        "listings[\"price_range\"].value_counts().sort_index().plot(kind=\"bar\")\n",
        "plt.title(\"Number of Listings in each Price Range\")\n",
        "plt.show()"
      ],
      "metadata": {
        "colab": {
          "base_uri": "https://localhost:8080/",
          "height": 686
        },
        "id": "X3TwvohLnGuF",
        "outputId": "5b7b095f-9011-4447-e96d-b1a9d678c16a"
      },
      "execution_count": 138,
      "outputs": [
        {
          "output_type": "display_data",
          "data": {
            "text/plain": [
              "<Figure size 896x672 with 1 Axes>"
            ],
            "image/png": "[encoded data removed]"
          },
          "metadata": {}
        }
      ]
    },
    {
      "cell_type": "code",
      "source": [
        "sns.histplot(df['CSUSHPISA'],bins=20);"
      ],
      "metadata": {
        "colab": {
          "base_uri": "https://localhost:8080/",
          "height": 621
        },
        "id": "mWZ28WtroP2U",
        "outputId": "5ca89ce0-60e1-45a9-952f-e22f682985bc"
      },
      "execution_count": 139,
      "outputs": [
        {
          "output_type": "display_data",
          "data": {
            "text/plain": [
              "<Figure size 896x672 with 1 Axes>"
            ],
            "image/png": "[encoded data removed]"
          },
          "metadata": {}
        }
      ]
    },
    {
      "cell_type": "code",
      "source": [
        "## Study bedrooms vs bath\n",
        "\n",
        "listings.plot(kind='scatter', x='DATE', y='CSUSHPISA',alpha = 0.2,color = 'red')\n",
        "plt.xlabel('Date')              # label = name of label\n",
        "plt.ylabel('CSUSHPISA')\n",
        "plt.title('Date & CSUSHPISA Scatter Plot')            # title = title of plot\n",
        "plt.show()"
      ],
      "metadata": {
        "colab": {
          "base_uri": "https://localhost:8080/",
          "height": 651
        },
        "id": "1IyY722BobZZ",
        "outputId": "aca30b79-dba1-4ac4-d109-d4ba5191b687"
      },
      "execution_count": 140,
      "outputs": [
        {
          "output_type": "display_data",
          "data": {
            "text/plain": [
              "<Figure size 896x672 with 1 Axes>"
            ],
            "image/png": "[encoded data removed]"
          },
          "metadata": {}
        }
      ]
    },
    {
      "cell_type": "code",
      "source": [
        "from plotly.offline import iplot"
      ],
      "metadata": {
        "id": "3f3ucpj-rQl3"
      },
      "execution_count": 141,
      "outputs": []
    },
    {
      "cell_type": "code",
      "source": [
        "trace1 = go.Scatter(\n",
        "    x = df.DATE,\n",
        "    y = df['CSUSHPISA'].astype(float),\n",
        "    mode = 'lines',\n",
        "    name = 'Open'\n",
        ")\n",
        "\n",
        "layout = dict(\n",
        "    title='CSUSHPISA with the Slider ',\n",
        "    xaxis=dict(\n",
        "        rangeselector=dict(\n",
        "            buttons=list([\n",
        "                #change the count to desired amount of months.\n",
        "                dict(count=1,\n",
        "                     label='1m',\n",
        "                     step='month',\n",
        "                     stepmode='backward'),\n",
        "                dict(count=6,\n",
        "                     label='6m',\n",
        "                     step='month',\n",
        "                     stepmode='backward'),\n",
        "                dict(count=12,\n",
        "                     label='1y',\n",
        "                     step='month',\n",
        "                     stepmode='backward'),\n",
        "                dict(count=36,\n",
        "                     label='3y',\n",
        "                     step='month',\n",
        "                     stepmode='backward'),\n",
        "                dict(count=60,\n",
        "                     label='5y',\n",
        "                     step='month',\n",
        "                     stepmode='backward'),\n",
        "                dict(count=120,\n",
        "                     label='10y',\n",
        "                     step='month',\n",
        "                     stepmode='backward'),\n",
        "                dict(step='all')\n",
        "            ])\n",
        "        ),\n",
        "        rangeslider=dict(\n",
        "            visible = True\n",
        "        ),\n",
        "        type='date'\n",
        "    )\n",
        ")\n",
        "\n",
        "data = [trace1]\n",
        "fig = go.Figure(data=data, layout=layout)\n",
        "iplot(fig, filename = \"Time Series with Rangeslider\")\n",
        "fig.show(renderer=\"colab\")"
      ],
      "metadata": {
        "colab": {
          "base_uri": "https://localhost:8080/",
          "height": 1000
        },
        "id": "GBICRvyoqQQ_",
        "outputId": "cdfca15f-ca84-4de9-ab44-ae1a07c0308e"
      },
      "execution_count": 142,
      "outputs": [
        {
          "output_type": "display_data",
          "data": {
            "application/vnd.plotly.v1+json": {
              "data": [
                {
                  "mode": "lines",
                  "name": "Open",
                  "x": [
                    "1987-01-01",
                    "1987-02-01",
                    "1987-03-01",
                    "1987-04-01",
                    "1987-05-01",
                    "1987-06-01",
                    "1987-07-01",
                    "1987-08-01",
                    "1987-09-01",
                    "1987-10-01",
                    "1987-11-01",
                    "1987-12-01",
                    "1988-01-01",
                    "1988-02-01",
                    "1988-03-01",
                    "1988-04-01",
                    "1988-05-01",
                    "1988-06-01",
                    "1988-07-01",
                    "1988-08-01",
                    "1988-09-01",
                    "1988-10-01",
                    "1988-11-01",
                    "1988-12-01",
                    "1989-01-01",
                    "1989-02-01",
                    "1989-03-01",
                    "1989-04-01",
                    "1989-05-01",
                    "1989-06-01",
                    "1989-07-01",
                    "1989-08-01",
                    "1989-09-01",
                    "1989-10-01",
                    "1989-11-01",
                    "1989-12-01",
                    "1990-01-01",
                    "1990-02-01",
                    "1990-03-01",
                    "1990-04-01",
                    "1990-05-01",
                    "1990-06-01",
                    "1990-07-01",
                    "1990-08-01",
                    "1990-09-01",
                    "1990-10-01",
                    "1990-11-01",
                    "1990-12-01",
                    "1991-01-01",
                    "1991-02-01",
                    "1991-03-01",
                    "1991-04-01",
                    "1991-05-01",
                    "1991-06-01",
                    "1991-07-01",
                    "1991-08-01",
                    "1991-09-01",
                    "1991-10-01",
                    "1991-11-01",
                    "1991-12-01",
                    "1992-01-01",
                    "1992-02-01",
                    "1992-03-01",
                    "1992-04-01",
                    "1992-05-01",
                    "1992-06-01",
                    "1992-07-01",
                    "1992-08-01",
                    "1992-09-01",
                    "1992-10-01",
                    "1992-11-01",
                    "1992-12-01",
                    "1993-01-01",
                    "1993-02-01",
                    "1993-03-01",
                    "1993-04-01",
                    "1993-05-01",
                    "1993-06-01",
                    "1993-07-01",
                    "1993-08-01",
                    "1993-09-01",
                    "1993-10-01",
                    "1993-11-01",
                    "1993-12-01",
                    "1994-01-01",
                    "1994-02-01",
                    "1994-03-01",
                    "1994-04-01",
                    "1994-05-01",
                    "1994-06-01",
                    "1994-07-01",
                    "1994-08-01",
                    "1994-09-01",
                    "1994-10-01",
                    "1994-11-01",
                    "1994-12-01",
                    "1995-01-01",
                    "1995-02-01",
                    "1995-03-01",
                    "1995-04-01",
                    "1995-05-01",
                    "1995-06-01",
                    "1995-07-01",
                    "1995-08-01",
                    "1995-09-01",
                    "1995-10-01",
                    "1995-11-01",
                    "1995-12-01",
                    "1996-01-01",
                    "1996-02-01",
                    "1996-03-01",
                    "1996-04-01",
                    "1996-05-01",
                    "1996-06-01",
                    "1996-07-01",
                    "1996-08-01",
                    "1996-09-01",
                    "1996-10-01",
                    "1996-11-01",
                    "1996-12-01",
                    "1997-01-01",
                    "1997-02-01",
                    "1997-03-01",
                    "1997-04-01",
                    "1997-05-01",
                    "1997-06-01",
                    "1997-07-01",
                    "1997-08-01",
                    "1997-09-01",
                    "1997-10-01",
                    "1997-11-01",
                    "1997-12-01",
                    "1998-01-01",
                    "1998-02-01",
                    "1998-03-01",
                    "1998-04-01",
                    "1998-05-01",
                    "1998-06-01",
                    "1998-07-01",
                    "1998-08-01",
                    "1998-09-01",
                    "1998-10-01",
                    "1998-11-01",
                    "1998-12-01",
                    "1999-01-01",
                    "1999-02-01",
                    "1999-03-01",
                    "1999-04-01",
                    "1999-05-01",
                    "1999-06-01",
                    "1999-07-01",
                    "1999-08-01",
                    "1999-09-01",
                    "1999-10-01",
                    "1999-11-01",
                    "1999-12-01",
                    "2000-01-01",
                    "2000-02-01",
                    "2000-03-01",
                    "2000-04-01",
                    "2000-05-01",
                    "2000-06-01",
                    "2000-07-01",
                    "2000-08-01",
                    "2000-09-01",
                    "2000-10-01",
                    "2000-11-01",
                    "2000-12-01",
                    "2001-01-01",
                    "2001-02-01",
                    "2001-03-01",
                    "2001-04-01",
                    "2001-05-01",
                    "2001-06-01",
                    "2001-07-01",
                    "2001-08-01",
                    "2001-09-01",
                    "2001-10-01",
                    "2001-11-01",
                    "2001-12-01",
                    "2002-01-01",
                    "2002-02-01",
                    "2002-03-01",
                    "2002-04-01",
                    "2002-05-01",
                    "2002-06-01",
                    "2002-07-01",
                    "2002-08-01",
                    "2002-09-01",
                    "2002-10-01",
                    "2002-11-01",
                    "2002-12-01",
                    "2003-01-01",
                    "2003-02-01",
                    "2003-03-01",
                    "2003-04-01",
                    "2003-05-01",
                    "2003-06-01",
                    "2003-07-01",
                    "2003-08-01",
                    "2003-09-01",
                    "2003-10-01",
                    "2003-11-01",
                    "2003-12-01",
                    "2004-01-01",
                    "2004-02-01",
                    "2004-03-01",
                    "2004-04-01",
                    "2004-05-01",
                    "2004-06-01",
                    "2004-07-01",
                    "2004-08-01",
                    "2004-09-01",
                    "2004-10-01",
                    "2004-11-01",
                    "2004-12-01",
                    "2005-01-01",
                    "2005-02-01",
                    "2005-03-01",
                    "2005-04-01",
                    "2005-05-01",
                    "2005-06-01",
                    "2005-07-01",
                    "2005-08-01",
                    "2005-09-01",
                    "2005-10-01",
                    "2005-11-01",
                    "2005-12-01",
                    "2006-01-01",
                    "2006-02-01",
                    "2006-03-01",
                    "2006-04-01",
                    "2006-05-01",
                    "2006-06-01",
                    "2006-07-01",
                    "2006-08-01",
                    "2006-09-01",
                    "2006-10-01",
                    "2006-11-01",
                    "2006-12-01",
                    "2007-01-01",
                    "2007-02-01",
                    "2007-03-01",
                    "2007-04-01",
                    "2007-05-01",
                    "2007-06-01",
                    "2007-07-01",
                    "2007-08-01",
                    "2007-09-01",
                    "2007-10-01",
                    "2007-11-01",
                    "2007-12-01",
                    "2008-01-01",
                    "2008-02-01",
                    "2008-03-01",
                    "2008-04-01",
                    "2008-05-01",
                    "2008-06-01",
                    "2008-07-01",
                    "2008-08-01",
                    "2008-09-01",
                    "2008-10-01",
                    "2008-11-01",
                    "2008-12-01",
                    "2009-01-01",
                    "2009-02-01",
                    "2009-03-01",
                    "2009-04-01",
                    "2009-05-01",
                    "2009-06-01",
                    "2009-07-01",
                    "2009-08-01",
                    "2009-09-01",
                    "2009-10-01",
                    "2009-11-01",
                    "2009-12-01",
                    "2010-01-01",
                    "2010-02-01",
                    "2010-03-01",
                    "2010-04-01",
                    "2010-05-01",
                    "2010-06-01",
                    "2010-07-01",
                    "2010-08-01",
                    "2010-09-01",
                    "2010-10-01",
                    "2010-11-01",
                    "2010-12-01",
                    "2011-01-01",
                    "2011-02-01",
                    "2011-03-01",
                    "2011-04-01",
                    "2011-05-01",
                    "2011-06-01",
                    "2011-07-01",
                    "2011-08-01",
                    "2011-09-01",
                    "2011-10-01",
                    "2011-11-01",
                    "2011-12-01",
                    "2012-01-01",
                    "2012-02-01",
                    "2012-03-01",
                    "2012-04-01",
                    "2012-05-01",
                    "2012-06-01",
                    "2012-07-01",
                    "2012-08-01",
                    "2012-09-01",
                    "2012-10-01",
                    "2012-11-01",
                    "2012-12-01",
                    "2013-01-01",
                    "2013-02-01",
                    "2013-03-01",
                    "2013-04-01",
                    "2013-05-01",
                    "2013-06-01",
                    "2013-07-01",
                    "2013-08-01",
                    "2013-09-01",
                    "2013-10-01",
                    "2013-11-01",
                    "2013-12-01",
                    "2014-01-01",
                    "2014-02-01",
                    "2014-03-01",
                    "2014-04-01",
                    "2014-05-01",
                    "2014-06-01",
                    "2014-07-01",
                    "2014-08-01",
                    "2014-09-01",
                    "2014-10-01",
                    "2014-11-01",
                    "2014-12-01",
                    "2015-01-01",
                    "2015-02-01",
                    "2015-03-01",
                    "2015-04-01",
                    "2015-05-01",
                    "2015-06-01",
                    "2015-07-01",
                    "2015-08-01",
                    "2015-09-01",
                    "2015-10-01",
                    "2015-11-01",
                    "2015-12-01",
                    "2016-01-01",
                    "2016-02-01",
                    "2016-03-01",
                    "2016-04-01",
                    "2016-05-01",
                    "2016-06-01",
                    "2016-07-01",
                    "2016-08-01",
                    "2016-09-01",
                    "2016-10-01",
                    "2016-11-01",
                    "2016-12-01",
                    "2017-01-01",
                    "2017-02-01",
                    "2017-03-01",
                    "2017-04-01",
                    "2017-05-01",
                    "2017-06-01",
                    "2017-07-01",
                    "2017-08-01",
                    "2017-09-01",
                    "2017-10-01",
                    "2017-11-01",
                    "2017-12-01",
                    "2018-01-01",
                    "2018-02-01",
                    "2018-03-01",
                    "2018-04-01",
                    "2018-05-01",
                    "2018-06-01",
                    "2018-07-01",
                    "2018-08-01",
                    "2018-09-01",
                    "2018-10-01",
                    "2018-11-01",
                    "2018-12-01",
                    "2019-01-01",
                    "2019-02-01",
                    "2019-03-01",
                    "2019-04-01",
                    "2019-05-01",
                    "2019-06-01",
                    "2019-07-01",
                    "2019-08-01",
                    "2019-09-01",
                    "2019-10-01",
                    "2019-11-01",
                    "2019-12-01",
                    "2020-01-01",
                    "2020-02-01",
                    "2020-03-01",
                    "2020-04-01",
                    "2020-05-01",
                    "2020-06-01",
                    "2020-07-01",
                    "2020-08-01",
                    "2020-09-01",
                    "2020-10-01",
                    "2020-11-01",
                    "2020-12-01",
                    "2021-01-01",
                    "2021-02-01",
                    "2021-03-01",
                    "2021-04-01",
                    "2021-05-01",
                    "2021-06-01",
                    "2021-07-01",
                    "2021-08-01",
                    "2021-09-01",
                    "2021-10-01",
                    "2021-11-01",
                    "2021-12-01",
                    "2022-01-01",
                    "2022-02-01",
                    "2022-03-01",
                    "2022-04-01",
                    "2022-05-01",
                    "2022-06-01",
                    "2022-07-01",
                    "2022-08-01",
                    "2022-09-01",
                    "2022-10-01",
                    "2022-11-01",
                    "2022-12-01",
                    "2023-01-01",
                    "2023-02-01",
                    "2023-03-01",
                    "2023-04-01",
                    "2023-05-01",
                    "2023-06-01",
                    "2023-07-01"
                  ],
                  "y": [
                    63.964,
                    64.42399999999999,
                    64.736,
                    65.132,
                    65.563,
                    66.071,
                    66.507,
                    66.938,
                    67.33,
                    67.73899999999999,
                    68.107,
                    68.506,
                    68.858,
                    69.263,
                    69.64,
                    69.977,
                    70.426,
                    70.889,
                    71.354,
                    71.79899999999999,
                    72.24,
                    72.635,
                    73.071,
                    73.46600000000001,
                    73.946,
                    74.382,
                    74.778,
                    75.086,
                    75.306,
                    75.479,
                    75.657,
                    75.835,
                    76.056,
                    76.283,
                    76.52,
                    76.705,
                    76.89699999999999,
                    77.053,
                    77.202,
                    77.278,
                    77.297,
                    77.259,
                    77.139,
                    77.009,
                    76.85,
                    76.699,
                    76.369,
                    76.185,
                    75.915,
                    75.734,
                    75.569,
                    75.565,
                    75.764,
                    75.993,
                    76.082,
                    76.109,
                    76.193,
                    76.074,
                    76.013,
                    76.055,
                    76.086,
                    76.155,
                    76.27600000000001,
                    76.345,
                    76.398,
                    76.331,
                    76.263,
                    76.229,
                    76.238,
                    76.375,
                    76.557,
                    76.673,
                    76.783,
                    76.836,
                    76.867,
                    76.935,
                    77.03699999999999,
                    77.242,
                    77.428,
                    77.612,
                    77.794,
                    77.94,
                    78.14699999999999,
                    78.325,
                    78.59,
                    78.726,
                    78.855,
                    78.986,
                    79.221,
                    79.421,
                    79.594,
                    79.78,
                    79.918,
                    80.064,
                    80.149,
                    80.295,
                    80.426,
                    80.527,
                    80.597,
                    80.66,
                    80.703,
                    80.78399999999999,
                    80.936,
                    81.109,
                    81.306,
                    81.48100000000001,
                    81.618,
                    81.735,
                    81.833,
                    81.95200000000001,
                    82.193,
                    82.419,
                    82.609,
                    82.751,
                    82.927,
                    83.085,
                    83.255,
                    83.376,
                    83.551,
                    83.72,
                    83.954,
                    84.18,
                    84.45100000000001,
                    84.62200000000001,
                    84.86,
                    85.079,
                    85.331,
                    85.572,
                    85.85,
                    86.146,
                    86.632,
                    87.09200000000001,
                    87.61399999999999,
                    88.001,
                    88.44,
                    88.87700000000001,
                    89.363,
                    89.84299999999999,
                    90.309,
                    90.784,
                    91.257,
                    91.716,
                    92.198,
                    92.711,
                    93.207,
                    93.67,
                    94.217,
                    94.783,
                    95.343,
                    95.974,
                    96.59,
                    97.218,
                    97.861,
                    98.522,
                    99.153,
                    99.843,
                    100.551,
                    101.339,
                    102.127,
                    102.923,
                    103.678,
                    104.424,
                    105.054,
                    105.768,
                    106.538,
                    107.382,
                    108.302,
                    109.14,
                    109.846,
                    110.501,
                    111.109,
                    111.652,
                    112.164,
                    112.796,
                    113.491,
                    114.167,
                    114.812,
                    115.31,
                    115.858,
                    116.455,
                    117.143,
                    117.845,
                    118.687,
                    119.611,
                    120.724,
                    121.813,
                    122.888,
                    123.83,
                    124.78,
                    125.735,
                    126.67,
                    127.624,
                    128.461,
                    129.355,
                    130.148,
                    130.884,
                    131.734,
                    132.649,
                    133.77700000000002,
                    134.969,
                    136.29399999999998,
                    137.532,
                    138.79399999999998,
                    140.179,
                    141.64600000000002,
                    143.192,
                    145.059,
                    146.593,
                    148.186,
                    149.85,
                    151.338,
                    152.63299999999998,
                    154.179,
                    155.75,
                    157.52700000000002,
                    159.33,
                    161.28799999999998,
                    163.344,
                    165.812,
                    167.50099999999998,
                    169.351,
                    171.19,
                    172.86,
                    174.442,
                    176.438,
                    178.028,
                    179.68,
                    180.91,
                    182.321,
                    183.287,
                    184.364,
                    184.329,
                    184.156,
                    183.507,
                    183.068,
                    182.594,
                    182.798,
                    183.198,
                    183.609,
                    184.139,
                    184.517,
                    184.598,
                    184.15,
                    183.01,
                    181.6,
                    180.254,
                    179.111,
                    178.116,
                    177.558,
                    176.62400000000002,
                    175.14700000000002,
                    174.342,
                    173.132,
                    171.541,
                    170.053,
                    168.338,
                    166.65900000000002,
                    165.017,
                    163.566,
                    161.987,
                    160.308,
                    158.327,
                    156.142,
                    153.619,
                    151.507,
                    150.015,
                    148.66,
                    147.94899999999998,
                    147.694,
                    148.09,
                    148.41,
                    148.278,
                    148.025,
                    147.85,
                    148.134,
                    147.929,
                    147.39600000000002,
                    145.631,
                    145.859,
                    146.403,
                    146.394,
                    145.721,
                    144.991,
                    143.916,
                    143.019,
                    142.531,
                    142.173,
                    142.06,
                    141.52100000000002,
                    140.35,
                    139.981,
                    140.01,
                    139.905,
                    139.862,
                    139.73,
                    139.309,
                    138.668,
                    137.952,
                    137.15200000000002,
                    136.674,
                    136.607,
                    136.533,
                    137.904,
                    139.154,
                    140.155,
                    141.029,
                    141.66899999999998,
                    142.279,
                    142.908,
                    143.6,
                    144.585,
                    145.503,
                    146.827,
                    147.785,
                    149.963,
                    151.519,
                    152.85,
                    154.19899999999998,
                    155.60399999999998,
                    156.965,
                    158.227,
                    159.24200000000002,
                    160.075,
                    160.994,
                    161.92700000000002,
                    162.525,
                    163.086,
                    163.393,
                    163.66,
                    164.062,
                    164.578,
                    165.215,
                    165.905,
                    166.642,
                    167.335,
                    168.051,
                    168.634,
                    169.13,
                    169.8,
                    170.298,
                    170.88099999999997,
                    171.468,
                    172.13099999999997,
                    172.93599999999998,
                    173.828,
                    174.792,
                    175.738,
                    176.545,
                    177.273,
                    177.649,
                    178.165,
                    178.767,
                    179.43,
                    180.08,
                    180.832,
                    181.852,
                    182.824,
                    183.752,
                    184.76,
                    185.725,
                    186.801,
                    187.312,
                    187.991,
                    188.724,
                    189.617,
                    190.51,
                    191.451,
                    192.667,
                    193.763,
                    194.811,
                    195.962,
                    197.176,
                    198.303,
                    199.217,
                    199.954,
                    200.654,
                    201.428,
                    202.238,
                    202.912,
                    203.697,
                    204.365,
                    205.138,
                    205.685,
                    206.161,
                    206.517,
                    206.817,
                    207.024,
                    207.506,
                    208.148,
                    208.67,
                    209.277,
                    210.12,
                    210.93400000000003,
                    211.844,
                    212.817,
                    213.938,
                    214.954,
                    215.773,
                    216.317,
                    216.803,
                    217.009,
                    217.656,
                    219.352,
                    222.449,
                    225.885,
                    229.84,
                    233.254,
                    236.491,
                    239.497,
                    242.215,
                    245.319,
                    249.063,
                    253.465,
                    258.42900000000003,
                    262.763,
                    266.955,
                    270.447,
                    273.855,
                    277.28,
                    281.348,
                    285.829,
                    290.92400000000004,
                    296.228,
                    300.569,
                    303.863,
                    304.832,
                    303.8,
                    301.637,
                    299.44,
                    299.033,
                    298.35,
                    297.425,
                    296.922,
                    297.273,
                    298.396,
                    300.208,
                    302.685,
                    304.741,
                    306.72
                  ],
                  "type": "scatter"
                }
              ],
              "layout": {
                "template": {
                  "data": {
                    "barpolar": [
                      {
                        "marker": {
                          "line": {
                            "color": "#E5ECF6",
                            "width": 0.5
                          },
                          "pattern": {
                            "fillmode": "overlay",
                            "size": 10,
                            "solidity": 0.2
                          }
                        },
                        "type": "barpolar"
                      }
                    ],
                    "bar": [
                      {
                        "error_x": {
                          "color": "#2a3f5f"
                        },
                        "error_y": {
                          "color": "#2a3f5f"
                        },
                        "marker": {
                          "line": {
                            "color": "#E5ECF6",
                            "width": 0.5
                          },
                          "pattern": {
                            "fillmode": "overlay",
                            "size": 10,
                            "solidity": 0.2
                          }
                        },
                        "type": "bar"
                      }
                    ],
                    "carpet": [
                      {
                        "aaxis": {
                          "endlinecolor": "#2a3f5f",
                          "gridcolor": "white",
                          "linecolor": "white",
                          "minorgridcolor": "white",
                          "startlinecolor": "#2a3f5f"
                        },
                        "baxis": {
                          "endlinecolor": "#2a3f5f",
                          "gridcolor": "white",
                          "linecolor": "white",
                          "minorgridcolor": "white",
                          "startlinecolor": "#2a3f5f"
                        },
                        "type": "carpet"
                      }
                    ],
                    "choropleth": [
                      {
                        "colorbar": {
                          "outlinewidth": 0,
                          "ticks": ""
                        },
                        "type": "choropleth"
                      }
                    ],
                    "contourcarpet": [
                      {
                        "colorbar": {
                          "outlinewidth": 0,
                          "ticks": ""
                        },
                        "type": "contourcarpet"
                      }
                    ],
                    "contour": [
                      {
                        "colorbar": {
                          "outlinewidth": 0,
                          "ticks": ""
                        },
                        "colorscale": [
                          [
                            0,
                            "#0d0887"
                          ],
                          [
                            0.1111111111111111,
                            "#46039f"
                          ],
                          [
                            0.2222222222222222,
                            "#7201a8"
                          ],
                          [
                            0.3333333333333333,
                            "#9c179e"
                          ],
                          [
                            0.4444444444444444,
                            "#bd3786"
                          ],
                          [
                            0.5555555555555556,
                            "#d8576b"
                          ],
                          [
                            0.6666666666666666,
                            "#ed7953"
                          ],
                          [
                            0.7777777777777778,
                            "#fb9f3a"
                          ],
                          [
                            0.8888888888888888,
                            "#fdca26"
                          ],
                          [
                            1,
                            "#f0f921"
                          ]
                        ],
                        "type": "contour"
                      }
                    ],
                    "heatmapgl": [
                      {
                        "colorbar": {
                          "outlinewidth": 0,
                          "ticks": ""
                        },
                        "colorscale": [
                          [
                            0,
                            "#0d0887"
                          ],
                          [
                            0.1111111111111111,
                            "#46039f"
                          ],
                          [
                            0.2222222222222222,
                            "#7201a8"
                          ],
                          [
                            0.3333333333333333,
                            "#9c179e"
                          ],
                          [
                            0.4444444444444444,
                            "#bd3786"
                          ],
                          [
                            0.5555555555555556,
                            "#d8576b"
                          ],
                          [
                            0.6666666666666666,
                            "#ed7953"
                          ],
                          [
                            0.7777777777777778,
                            "#fb9f3a"
                          ],
                          [
                            0.8888888888888888,
                            "#fdca26"
                          ],
                          [
                            1,
                            "#f0f921"
                          ]
                        ],
                        "type": "heatmapgl"
                      }
                    ],
                    "heatmap": [
                      {
                        "colorbar": {
                          "outlinewidth": 0,
                          "ticks": ""
                        },
                        "colorscale": [
                          [
                            0,
                            "#0d0887"
                          ],
                          [
                            0.1111111111111111,
                            "#46039f"
                          ],
                          [
                            0.2222222222222222,
                            "#7201a8"
                          ],
                          [
                            0.3333333333333333,
                            "#9c179e"
                          ],
                          [
                            0.4444444444444444,
                            "#bd3786"
                          ],
                          [
                            0.5555555555555556,
                            "#d8576b"
                          ],
                          [
                            0.6666666666666666,
                            "#ed7953"
                          ],
                          [
                            0.7777777777777778,
                            "#fb9f3a"
                          ],
                          [
                            0.8888888888888888,
                            "#fdca26"
                          ],
                          [
                            1,
                            "#f0f921"
                          ]
                        ],
                        "type": "heatmap"
                      }
                    ],
                    "histogram2dcontour": [
                      {
                        "colorbar": {
                          "outlinewidth": 0,
                          "ticks": ""
                        },
                        "colorscale": [
                          [
                            0,
                            "#0d0887"
                          ],
                          [
                            0.1111111111111111,
                            "#46039f"
                          ],
                          [
                            0.2222222222222222,
                            "#7201a8"
                          ],
                          [
                            0.3333333333333333,
                            "#9c179e"
                          ],
                          [
                            0.4444444444444444,
                            "#bd3786"
                          ],
                          [
                            0.5555555555555556,
                            "#d8576b"
                          ],
                          [
                            0.6666666666666666,
                            "#ed7953"
                          ],
                          [
                            0.7777777777777778,
                            "#fb9f3a"
                          ],
                          [
                            0.8888888888888888,
                            "#fdca26"
                          ],
                          [
                            1,
                            "#f0f921"
                          ]
                        ],
                        "type": "histogram2dcontour"
                      }
                    ],
                    "histogram2d": [
                      {
                        "colorbar": {
                          "outlinewidth": 0,
                          "ticks": ""
                        },
                        "colorscale": [
                          [
                            0,
                            "#0d0887"
                          ],
                          [
                            0.1111111111111111,
                            "#46039f"
                          ],
                          [
                            0.2222222222222222,
                            "#7201a8"
                          ],
                          [
                            0.3333333333333333,
                            "#9c179e"
                          ],
                          [
                            0.4444444444444444,
                            "#bd3786"
                          ],
                          [
                            0.5555555555555556,
                            "#d8576b"
                          ],
                          [
                            0.6666666666666666,
                            "#ed7953"
                          ],
                          [
                            0.7777777777777778,
                            "#fb9f3a"
                          ],
                          [
                            0.8888888888888888,
                            "#fdca26"
                          ],
                          [
                            1,
                            "#f0f921"
                          ]
                        ],
                        "type": "histogram2d"
                      }
                    ],
                    "histogram": [
                      {
                        "marker": {
                          "pattern": {
                            "fillmode": "overlay",
                            "size": 10,
                            "solidity": 0.2
                          }
                        },
                        "type": "histogram"
                      }
                    ],
                    "mesh3d": [
                      {
                        "colorbar": {
                          "outlinewidth": 0,
                          "ticks": ""
                        },
                        "type": "mesh3d"
                      }
                    ],
                    "parcoords": [
                      {
                        "line": {
                          "colorbar": {
                            "outlinewidth": 0,
                            "ticks": ""
                          }
                        },
                        "type": "parcoords"
                      }
                    ],
                    "pie": [
                      {
                        "automargin": true,
                        "type": "pie"
                      }
                    ],
                    "scatter3d": [
                      {
                        "line": {
                          "colorbar": {
                            "outlinewidth": 0,
                            "ticks": ""
                          }
                        },
                        "marker": {
                          "colorbar": {
                            "outlinewidth": 0,
                            "ticks": ""
                          }
                        },
                        "type": "scatter3d"
                      }
                    ],
                    "scattercarpet": [
                      {
                        "marker": {
                          "colorbar": {
                            "outlinewidth": 0,
                            "ticks": ""
                          }
                        },
                        "type": "scattercarpet"
                      }
                    ],
                    "scattergeo": [
                      {
                        "marker": {
                          "colorbar": {
                            "outlinewidth": 0,
                            "ticks": ""
                          }
                        },
                        "type": "scattergeo"
                      }
                    ],
                    "scattergl": [
                      {
                        "marker": {
                          "colorbar": {
                            "outlinewidth": 0,
                            "ticks": ""
                          }
                        },
                        "type": "scattergl"
                      }
                    ],
                    "scattermapbox": [
                      {
                        "marker": {
                          "colorbar": {
                            "outlinewidth": 0,
                            "ticks": ""
                          }
                        },
                        "type": "scattermapbox"
                      }
                    ],
                    "scatterpolargl": [
                      {
                        "marker": {
                          "colorbar": {
                            "outlinewidth": 0,
                            "ticks": ""
                          }
                        },
                        "type": "scatterpolargl"
                      }
                    ],
                    "scatterpolar": [
                      {
                        "marker": {
                          "colorbar": {
                            "outlinewidth": 0,
                            "ticks": ""
                          }
                        },
                        "type": "scatterpolar"
                      }
                    ],
                    "scatter": [
                      {
                        "fillpattern": {
                          "fillmode": "overlay",
                          "size": 10,
                          "solidity": 0.2
                        },
                        "type": "scatter"
                      }
                    ],
                    "scatterternary": [
                      {
                        "marker": {
                          "colorbar": {
                            "outlinewidth": 0,
                            "ticks": ""
                          }
                        },
                        "type": "scatterternary"
                      }
                    ],
                    "surface": [
                      {
                        "colorbar": {
                          "outlinewidth": 0,
                          "ticks": ""
                        },
                        "colorscale": [
                          [
                            0,
                            "#0d0887"
                          ],
                          [
                            0.1111111111111111,
                            "#46039f"
                          ],
                          [
                            0.2222222222222222,
                            "#7201a8"
                          ],
                          [
                            0.3333333333333333,
                            "#9c179e"
                          ],
                          [
                            0.4444444444444444,
                            "#bd3786"
                          ],
                          [
                            0.5555555555555556,
                            "#d8576b"
                          ],
                          [
                            0.6666666666666666,
                            "#ed7953"
                          ],
                          [
                            0.7777777777777778,
                            "#fb9f3a"
                          ],
                          [
                            0.8888888888888888,
                            "#fdca26"
                          ],
                          [
                            1,
                            "#f0f921"
                          ]
                        ],
                        "type": "surface"
                      }
                    ],
                    "table": [
                      {
                        "cells": {
                          "fill": {
                            "color": "#EBF0F8"
                          },
                          "line": {
                            "color": "white"
                          }
                        },
                        "header": {
                          "fill": {
                            "color": "#C8D4E3"
                          },
                          "line": {
                            "color": "white"
                          }
                        },
                        "type": "table"
                      }
                    ]
                  },
                  "layout": {
                    "annotationdefaults": {
                      "arrowcolor": "#2a3f5f",
                      "arrowhead": 0,
                      "arrowwidth": 1
                    },
                    "autotypenumbers": "strict",
                    "coloraxis": {
                      "colorbar": {
                        "outlinewidth": 0,
                        "ticks": ""
                      }
                    },
                    "colorscale": {
                      "diverging": [
                        [
                          0,
                          "#8e0152"
                        ],
                        [
                          0.1,
                          "#c51b7d"
                        ],
                        [
                          0.2,
                          "#de77ae"
                        ],
                        [
                          0.3,
                          "#f1b6da"
                        ],
                        [
                          0.4,
                          "#fde0ef"
                        ],
                        [
                          0.5,
                          "#f7f7f7"
                        ],
                        [
                          0.6,
                          "#e6f5d0"
                        ],
                        [
                          0.7,
                          "#b8e186"
                        ],
                        [
                          0.8,
                          "#7fbc41"
                        ],
                        [
                          0.9,
                          "#4d9221"
                        ],
                        [
                          1,
                          "#276419"
                        ]
                      ],
                      "sequential": [
                        [
                          0,
                          "#0d0887"
                        ],
                        [
                          0.1111111111111111,
                          "#46039f"
                        ],
                        [
                          0.2222222222222222,
                          "#7201a8"
                        ],
                        [
                          0.3333333333333333,
                          "#9c179e"
                        ],
                        [
                          0.4444444444444444,
                          "#bd3786"
                        ],
                        [
                          0.5555555555555556,
                          "#d8576b"
                        ],
                        [
                          0.6666666666666666,
                          "#ed7953"
                        ],
                        [
                          0.7777777777777778,
                          "#fb9f3a"
                        ],
                        [
                          0.8888888888888888,
                          "#fdca26"
                        ],
                        [
                          1,
                          "#f0f921"
                        ]
                      ],
                      "sequentialminus": [
                        [
                          0,
                          "#0d0887"
                        ],
                        [
                          0.1111111111111111,
                          "#46039f"
                        ],
                        [
                          0.2222222222222222,
                          "#7201a8"
                        ],
                        [
                          0.3333333333333333,
                          "#9c179e"
                        ],
                        [
                          0.4444444444444444,
                          "#bd3786"
                        ],
                        [
                          0.5555555555555556,
                          "#d8576b"
                        ],
                        [
                          0.6666666666666666,
                          "#ed7953"
                        ],
                        [
                          0.7777777777777778,
                          "#fb9f3a"
                        ],
                        [
                          0.8888888888888888,
                          "#fdca26"
                        ],
                        [
                          1,
                          "#f0f921"
                        ]
                      ]
                    },
                    "colorway": [
                      "#636efa",
                      "#EF553B",
                      "#00cc96",
                      "#ab63fa",
                      "#FFA15A",
                      "#19d3f3",
                      "#FF6692",
                      "#B6E880",
                      "#FF97FF",
                      "#FECB52"
                    ],
                    "font": {
                      "color": "#2a3f5f"
                    },
                    "geo": {
                      "bgcolor": "white",
                      "lakecolor": "white",
                      "landcolor": "#E5ECF6",
                      "showlakes": true,
                      "showland": true,
                      "subunitcolor": "white"
                    },
                    "hoverlabel": {
                      "align": "left"
                    },
                    "hovermode": "closest",
                    "mapbox": {
                      "style": "light"
                    },
                    "paper_bgcolor": "white",
                    "plot_bgcolor": "#E5ECF6",
                    "polar": {
                      "angularaxis": {
                        "gridcolor": "white",
                        "linecolor": "white",
                        "ticks": ""
                      },
                      "bgcolor": "#E5ECF6",
                      "radialaxis": {
                        "gridcolor": "white",
                        "linecolor": "white",
                        "ticks": ""
                      }
                    },
                    "scene": {
                      "xaxis": {
                        "backgroundcolor": "#E5ECF6",
                        "gridcolor": "white",
                        "gridwidth": 2,
                        "linecolor": "white",
                        "showbackground": true,
                        "ticks": "",
                        "zerolinecolor": "white"
                      },
                      "yaxis": {
                        "backgroundcolor": "#E5ECF6",
                        "gridcolor": "white",
                        "gridwidth": 2,
                        "linecolor": "white",
                        "showbackground": true,
                        "ticks": "",
                        "zerolinecolor": "white"
                      },
                      "zaxis": {
                        "backgroundcolor": "#E5ECF6",
                        "gridcolor": "white",
                        "gridwidth": 2,
                        "linecolor": "white",
                        "showbackground": true,
                        "ticks": "",
                        "zerolinecolor": "white"
                      }
                    },
                    "shapedefaults": {
                      "line": {
                        "color": "#2a3f5f"
                      }
                    },
                    "ternary": {
                      "aaxis": {
                        "gridcolor": "white",
                        "linecolor": "white",
                        "ticks": ""
                      },
                      "baxis": {
                        "gridcolor": "white",
                        "linecolor": "white",
                        "ticks": ""
                      },
                      "bgcolor": "#E5ECF6",
                      "caxis": {
                        "gridcolor": "white",
                        "linecolor": "white",
                        "ticks": ""
                      }
                    },
                    "title": {
                      "x": 0.05
                    },
                    "xaxis": {
                      "automargin": true,
                      "gridcolor": "white",
                      "linecolor": "white",
                      "ticks": "",
                      "title": {
                        "standoff": 15
                      },
                      "zerolinecolor": "white",
                      "zerolinewidth": 2
                    },
                    "yaxis": {
                      "automargin": true,
                      "gridcolor": "white",
                      "linecolor": "white",
                      "ticks": "",
                      "title": {
                        "standoff": 15
                      },
                      "zerolinecolor": "white",
                      "zerolinewidth": 2
                    }
                  }
                },
                "title": {
                  "text": "CSUSHPISA with the Slider "
                },
                "xaxis": {
                  "rangeselector": {
                    "buttons": [
                      {
                        "count": 1,
                        "label": "1m",
                        "step": "month",
                        "stepmode": "backward"
                      },
                      {
                        "count": 6,
                        "label": "6m",
                        "step": "month",
                        "stepmode": "backward"
                      },
                      {
                        "count": 12,
                        "label": "1y",
                        "step": "month",
                        "stepmode": "backward"
                      },
                      {
                        "count": 36,
                        "label": "3y",
                        "step": "month",
                        "stepmode": "backward"
                      },
                      {
                        "count": 60,
                        "label": "5y",
                        "step": "month",
                        "stepmode": "backward"
                      },
                      {
                        "count": 120,
                        "label": "10y",
                        "step": "month",
                        "stepmode": "backward"
                      },
                      {
                        "step": "all"
                      }
                    ]
                  },
                  "rangeslider": {
                    "visible": true
                  },
                  "type": "date"
                }
              },
              "config": {
                "showLink": false,
                "linkText": "Export to plot.ly",
                "plotlyServerURL": "https://plot.ly"
              }
            },
            "text/html": [
              "<div>                            <div id=\"2383d402-87ec-4faa-a40f-410a660792c5\" class=\"plotly-graph-div\" style=\"height:525px; width:100%;\"></div>            <script type=\"text/javascript\">                require([\"plotly\"], function(Plotly) {                    window.PLOTLYENV=window.PLOTLYENV || {};                                    if (document.getElementById(\"2383d402-87ec-4faa-a40f-410a660792c5\")) {                    Plotly.newPlot(                        \"2383d402-87ec-4faa-a40f-410a660792c5\",                        [{\"mode\":\"lines\",\"name\":\"Open\",\"x\":[\"1987-01-01\",\"1987-02-01\",\"1987-03-01\",\"1987-04-01\",\"1987-05-01\",\"1987-06-01\",\"1987-07-01\",\"1987-08-01\",\"1987-09-01\",\"1987-10-01\",\"1987-11-01\",\"1987-12-01\",\"1988-01-01\",\"1988-02-01\",\"1988-03-01\",\"1988-04-01\",\"1988-05-01\",\"1988-06-01\",\"1988-07-01\",\"1988-08-01\",\"1988-09-01\",\"1988-10-01\",\"1988-11-01\",\"1988-12-01\",\"1989-01-01\",\"1989-02-01\",\"1989-03-01\",\"1989-04-01\",\"1989-05-01\",\"1989-06-01\",\"1989-07-01\",\"1989-08-01\",\"1989-09-01\",\"1989-10-01\",\"1989-11-01\",\"1989-12-01\",\"1990-01-01\",\"1990-02-01\",\"1990-03-01\",\"1990-04-01\",\"1990-05-01\",\"1990-06-01\",\"1990-07-01\",\"1990-08-01\",\"1990-09-01\",\"1990-10-01\",\"1990-11-01\",\"1990-12-01\",\"1991-01-01\",\"1991-02-01\",\"1991-03-01\",\"1991-04-01\",\"1991-05-01\",\"1991-06-01\",\"1991-07-01\",\"1991-08-01\",\"1991-09-01\",\"1991-10-01\",\"1991-11-01\",\"1991-12-01\",\"1992-01-01\",\"1992-02-01\",\"1992-03-01\",\"1992-04-01\",\"1992-05-01\",\"1992-06-01\",\"1992-07-01\",\"1992-08-01\",\"1992-09-01\",\"1992-10-01\",\"1992-11-01\",\"1992-12-01\",\"1993-01-01\",\"1993-02-01\",\"1993-03-01\",\"1993-04-01\",\"1993-05-01\",\"1993-06-01\",\"1993-07-01\",\"1993-08-01\",\"1993-09-01\",\"1993-10-01\",\"1993-11-01\",\"1993-12-01\",\"1994-01-01\",\"1994-02-01\",\"1994-03-01\",\"1994-04-01\",\"1994-05-01\",\"1994-06-01\",\"1994-07-01\",\"1994-08-01\",\"1994-09-01\",\"1994-10-01\",\"1994-11-01\",\"1994-12-01\",\"1995-01-01\",\"1995-02-01\",\"1995-03-01\",\"1995-04-01\",\"1995-05-01\",\"1995-06-01\",\"1995-07-01\",\"1995-08-01\",\"1995-09-01\",\"1995-10-01\",\"1995-11-01\",\"1995-12-01\",\"1996-01-01\",\"1996-02-01\",\"1996-03-01\",\"1996-04-01\",\"1996-05-01\",\"1996-06-01\",\"1996-07-01\",\"1996-08-01\",\"1996-09-01\",\"1996-10-01\",\"1996-11-01\",\"1996-12-01\",\"1997-01-01\",\"1997-02-01\",\"1997-03-01\",\"1997-04-01\",\"1997-05-01\",\"1997-06-01\",\"1997-07-01\",\"1997-08-01\",\"1997-09-01\",\"1997-10-01\",\"1997-11-01\",\"1997-12-01\",\"1998-01-01\",\"1998-02-01\",\"1998-03-01\",\"1998-04-01\",\"1998-05-01\",\"1998-06-01\",\"1998-07-01\",\"1998-08-01\",\"1998-09-01\",\"1998-10-01\",\"1998-11-01\",\"1998-12-01\",\"1999-01-01\",\"1999-02-01\",\"1999-03-01\",\"1999-04-01\",\"1999-05-01\",\"1999-06-01\",\"1999-07-01\",\"1999-08-01\",\"1999-09-01\",\"1999-10-01\",\"1999-11-01\",\"1999-12-01\",\"2000-01-01\",\"2000-02-01\",\"2000-03-01\",\"2000-04-01\",\"2000-05-01\",\"2000-06-01\",\"2000-07-01\",\"2000-08-01\",\"2000-09-01\",\"2000-10-01\",\"2000-11-01\",\"2000-12-01\",\"2001-01-01\",\"2001-02-01\",\"2001-03-01\",\"2001-04-01\",\"2001-05-01\",\"2001-06-01\",\"2001-07-01\",\"2001-08-01\",\"2001-09-01\",\"2001-10-01\",\"2001-11-01\",\"2001-12-01\",\"2002-01-01\",\"2002-02-01\",\"2002-03-01\",\"2002-04-01\",\"2002-05-01\",\"2002-06-01\",\"2002-07-01\",\"2002-08-01\",\"2002-09-01\",\"2002-10-01\",\"2002-11-01\",\"2002-12-01\",\"2003-01-01\",\"2003-02-01\",\"2003-03-01\",\"2003-04-01\",\"2003-05-01\",\"2003-06-01\",\"2003-07-01\",\"2003-08-01\",\"2003-09-01\",\"2003-10-01\",\"2003-11-01\",\"2003-12-01\",\"2004-01-01\",\"2004-02-01\",\"2004-03-01\",\"2004-04-01\",\"2004-05-01\",\"2004-06-01\",\"2004-07-01\",\"2004-08-01\",\"2004-09-01\",\"2004-10-01\",\"2004-11-01\",\"2004-12-01\",\"2005-01-01\",\"2005-02-01\",\"2005-03-01\",\"2005-04-01\",\"2005-05-01\",\"2005-06-01\",\"2005-07-01\",\"2005-08-01\",\"2005-09-01\",\"2005-10-01\",\"2005-11-01\",\"2005-12-01\",\"2006-01-01\",\"2006-02-01\",\"2006-03-01\",\"2006-04-01\",\"2006-05-01\",\"2006-06-01\",\"2006-07-01\",\"2006-08-01\",\"2006-09-01\",\"2006-10-01\",\"2006-11-01\",\"2006-12-01\",\"2007-01-01\",\"2007-02-01\",\"2007-03-01\",\"2007-04-01\",\"2007-05-01\",\"2007-06-01\",\"2007-07-01\",\"2007-08-01\",\"2007-09-01\",\"2007-10-01\",\"2007-11-01\",\"2007-12-01\",\"2008-01-01\",\"2008-02-01\",\"2008-03-01\",\"2008-04-01\",\"2008-05-01\",\"2008-06-01\",\"2008-07-01\",\"2008-08-01\",\"2008-09-01\",\"2008-10-01\",\"2008-11-01\",\"2008-12-01\",\"2009-01-01\",\"2009-02-01\",\"2009-03-01\",\"2009-04-01\",\"2009-05-01\",\"2009-06-01\",\"2009-07-01\",\"2009-08-01\",\"2009-09-01\",\"2009-10-01\",\"2009-11-01\",\"2009-12-01\",\"2010-01-01\",\"2010-02-01\",\"2010-03-01\",\"2010-04-01\",\"2010-05-01\",\"2010-06-01\",\"2010-07-01\",\"2010-08-01\",\"2010-09-01\",\"2010-10-01\",\"2010-11-01\",\"2010-12-01\",\"2011-01-01\",\"2011-02-01\",\"2011-03-01\",\"2011-04-01\",\"2011-05-01\",\"2011-06-01\",\"2011-07-01\",\"2011-08-01\",\"2011-09-01\",\"2011-10-01\",\"2011-11-01\",\"2011-12-01\",\"2012-01-01\",\"2012-02-01\",\"2012-03-01\",\"2012-04-01\",\"2012-05-01\",\"2012-06-01\",\"2012-07-01\",\"2012-08-01\",\"2012-09-01\",\"2012-10-01\",\"2012-11-01\",\"2012-12-01\",\"2013-01-01\",\"2013-02-01\",\"2013-03-01\",\"2013-04-01\",\"2013-05-01\",\"2013-06-01\",\"2013-07-01\",\"2013-08-01\",\"2013-09-01\",\"2013-10-01\",\"2013-11-01\",\"2013-12-01\",\"2014-01-01\",\"2014-02-01\",\"2014-03-01\",\"2014-04-01\",\"2014-05-01\",\"2014-06-01\",\"2014-07-01\",\"2014-08-01\",\"2014-09-01\",\"2014-10-01\",\"2014-11-01\",\"2014-12-01\",\"2015-01-01\",\"2015-02-01\",\"2015-03-01\",\"2015-04-01\",\"2015-05-01\",\"2015-06-01\",\"2015-07-01\",\"2015-08-01\",\"2015-09-01\",\"2015-10-01\",\"2015-11-01\",\"2015-12-01\",\"2016-01-01\",\"2016-02-01\",\"2016-03-01\",\"2016-04-01\",\"2016-05-01\",\"2016-06-01\",\"2016-07-01\",\"2016-08-01\",\"2016-09-01\",\"2016-10-01\",\"2016-11-01\",\"2016-12-01\",\"2017-01-01\",\"2017-02-01\",\"2017-03-01\",\"2017-04-01\",\"2017-05-01\",\"2017-06-01\",\"2017-07-01\",\"2017-08-01\",\"2017-09-01\",\"2017-10-01\",\"2017-11-01\",\"2017-12-01\",\"2018-01-01\",\"2018-02-01\",\"2018-03-01\",\"2018-04-01\",\"2018-05-01\",\"2018-06-01\",\"2018-07-01\",\"2018-08-01\",\"2018-09-01\",\"2018-10-01\",\"2018-11-01\",\"2018-12-01\",\"2019-01-01\",\"2019-02-01\",\"2019-03-01\",\"2019-04-01\",\"2019-05-01\",\"2019-06-01\",\"2019-07-01\",\"2019-08-01\",\"2019-09-01\",\"2019-10-01\",\"2019-11-01\",\"2019-12-01\",\"2020-01-01\",\"2020-02-01\",\"2020-03-01\",\"2020-04-01\",\"2020-05-01\",\"2020-06-01\",\"2020-07-01\",\"2020-08-01\",\"2020-09-01\",\"2020-10-01\",\"2020-11-01\",\"2020-12-01\",\"2021-01-01\",\"2021-02-01\",\"2021-03-01\",\"2021-04-01\",\"2021-05-01\",\"2021-06-01\",\"2021-07-01\",\"2021-08-01\",\"2021-09-01\",\"2021-10-01\",\"2021-11-01\",\"2021-12-01\",\"2022-01-01\",\"2022-02-01\",\"2022-03-01\",\"2022-04-01\",\"2022-05-01\",\"2022-06-01\",\"2022-07-01\",\"2022-08-01\",\"2022-09-01\",\"2022-10-01\",\"2022-11-01\",\"2022-12-01\",\"2023-01-01\",\"2023-02-01\",\"2023-03-01\",\"2023-04-01\",\"2023-05-01\",\"2023-06-01\",\"2023-07-01\"],\"y\":[63.964,64.42399999999999,64.736,65.132,65.563,66.071,66.507,66.938,67.33,67.73899999999999,68.107,68.506,68.858,69.263,69.64,69.977,70.426,70.889,71.354,71.79899999999999,72.24,72.635,73.071,73.46600000000001,73.946,74.382,74.778,75.086,75.306,75.479,75.657,75.835,76.056,76.283,76.52,76.705,76.89699999999999,77.053,77.202,77.278,77.297,77.259,77.139,77.009,76.85,76.699,76.369,76.185,75.915,75.734,75.569,75.565,75.764,75.993,76.082,76.109,76.193,76.074,76.013,76.055,76.086,76.155,76.27600000000001,76.345,76.398,76.331,76.263,76.229,76.238,76.375,76.557,76.673,76.783,76.836,76.867,76.935,77.03699999999999,77.242,77.428,77.612,77.794,77.94,78.14699999999999,78.325,78.59,78.726,78.855,78.986,79.221,79.421,79.594,79.78,79.918,80.064,80.149,80.295,80.426,80.527,80.597,80.66,80.703,80.78399999999999,80.936,81.109,81.306,81.48100000000001,81.618,81.735,81.833,81.95200000000001,82.193,82.419,82.609,82.751,82.927,83.085,83.255,83.376,83.551,83.72,83.954,84.18,84.45100000000001,84.62200000000001,84.86,85.079,85.331,85.572,85.85,86.146,86.632,87.09200000000001,87.61399999999999,88.001,88.44,88.87700000000001,89.363,89.84299999999999,90.309,90.784,91.257,91.716,92.198,92.711,93.207,93.67,94.217,94.783,95.343,95.974,96.59,97.218,97.861,98.522,99.153,99.843,100.551,101.339,102.127,102.923,103.678,104.424,105.054,105.768,106.538,107.382,108.302,109.14,109.846,110.501,111.109,111.652,112.164,112.796,113.491,114.167,114.812,115.31,115.858,116.455,117.143,117.845,118.687,119.611,120.724,121.813,122.888,123.83,124.78,125.735,126.67,127.624,128.461,129.355,130.148,130.884,131.734,132.649,133.77700000000002,134.969,136.29399999999998,137.532,138.79399999999998,140.179,141.64600000000002,143.192,145.059,146.593,148.186,149.85,151.338,152.63299999999998,154.179,155.75,157.52700000000002,159.33,161.28799999999998,163.344,165.812,167.50099999999998,169.351,171.19,172.86,174.442,176.438,178.028,179.68,180.91,182.321,183.287,184.364,184.329,184.156,183.507,183.068,182.594,182.798,183.198,183.609,184.139,184.517,184.598,184.15,183.01,181.6,180.254,179.111,178.116,177.558,176.62400000000002,175.14700000000002,174.342,173.132,171.541,170.053,168.338,166.65900000000002,165.017,163.566,161.987,160.308,158.327,156.142,153.619,151.507,150.015,148.66,147.94899999999998,147.694,148.09,148.41,148.278,148.025,147.85,148.134,147.929,147.39600000000002,145.631,145.859,146.403,146.394,145.721,144.991,143.916,143.019,142.531,142.173,142.06,141.52100000000002,140.35,139.981,140.01,139.905,139.862,139.73,139.309,138.668,137.952,137.15200000000002,136.674,136.607,136.533,137.904,139.154,140.155,141.029,141.66899999999998,142.279,142.908,143.6,144.585,145.503,146.827,147.785,149.963,151.519,152.85,154.19899999999998,155.60399999999998,156.965,158.227,159.24200000000002,160.075,160.994,161.92700000000002,162.525,163.086,163.393,163.66,164.062,164.578,165.215,165.905,166.642,167.335,168.051,168.634,169.13,169.8,170.298,170.88099999999997,171.468,172.13099999999997,172.93599999999998,173.828,174.792,175.738,176.545,177.273,177.649,178.165,178.767,179.43,180.08,180.832,181.852,182.824,183.752,184.76,185.725,186.801,187.312,187.991,188.724,189.617,190.51,191.451,192.667,193.763,194.811,195.962,197.176,198.303,199.217,199.954,200.654,201.428,202.238,202.912,203.697,204.365,205.138,205.685,206.161,206.517,206.817,207.024,207.506,208.148,208.67,209.277,210.12,210.93400000000003,211.844,212.817,213.938,214.954,215.773,216.317,216.803,217.009,217.656,219.352,222.449,225.885,229.84,233.254,236.491,239.497,242.215,245.319,249.063,253.465,258.42900000000003,262.763,266.955,270.447,273.855,277.28,281.348,285.829,290.92400000000004,296.228,300.569,303.863,304.832,303.8,301.637,299.44,299.033,298.35,297.425,296.922,297.273,298.396,300.208,302.685,304.741,306.72],\"type\":\"scatter\"}],                        {\"template\":{\"data\":{\"barpolar\":[{\"marker\":{\"line\":{\"color\":\"#E5ECF6\",\"width\":0.5},\"pattern\":{\"fillmode\":\"overlay\",\"size\":10,\"solidity\":0.2}},\"type\":\"barpolar\"}],\"bar\":[{\"error_x\":{\"color\":\"#2a3f5f\"},\"error_y\":{\"color\":\"#2a3f5f\"},\"marker\":{\"line\":{\"color\":\"#E5ECF6\",\"width\":0.5},\"pattern\":{\"fillmode\":\"overlay\",\"size\":10,\"solidity\":0.2}},\"type\":\"bar\"}],\"carpet\":[{\"aaxis\":{\"endlinecolor\":\"#2a3f5f\",\"gridcolor\":\"white\",\"linecolor\":\"white\",\"minorgridcolor\":\"white\",\"startlinecolor\":\"#2a3f5f\"},\"baxis\":{\"endlinecolor\":\"#2a3f5f\",\"gridcolor\":\"white\",\"linecolor\":\"white\",\"minorgridcolor\":\"white\",\"startlinecolor\":\"#2a3f5f\"},\"type\":\"carpet\"}],\"choropleth\":[{\"colorbar\":{\"outlinewidth\":0,\"ticks\":\"\"},\"type\":\"choropleth\"}],\"contourcarpet\":[{\"colorbar\":{\"outlinewidth\":0,\"ticks\":\"\"},\"type\":\"contourcarpet\"}],\"contour\":[{\"colorbar\":{\"outlinewidth\":0,\"ticks\":\"\"},\"colorscale\":[[0.0,\"#0d0887\"],[0.1111111111111111,\"#46039f\"],[0.2222222222222222,\"#7201a8\"],[0.3333333333333333,\"#9c179e\"],[0.4444444444444444,\"#bd3786\"],[0.5555555555555556,\"#d8576b\"],[0.6666666666666666,\"#ed7953\"],[0.7777777777777778,\"#fb9f3a\"],[0.8888888888888888,\"#fdca26\"],[1.0,\"#f0f921\"]],\"type\":\"contour\"}],\"heatmapgl\":[{\"colorbar\":{\"outlinewidth\":0,\"ticks\":\"\"},\"colorscale\":[[0.0,\"#0d0887\"],[0.1111111111111111,\"#46039f\"],[0.2222222222222222,\"#7201a8\"],[0.3333333333333333,\"#9c179e\"],[0.4444444444444444,\"#bd3786\"],[0.5555555555555556,\"#d8576b\"],[0.6666666666666666,\"#ed7953\"],[0.7777777777777778,\"#fb9f3a\"],[0.8888888888888888,\"#fdca26\"],[1.0,\"#f0f921\"]],\"type\":\"heatmapgl\"}],\"heatmap\":[{\"colorbar\":{\"outlinewidth\":0,\"ticks\":\"\"},\"colorscale\":[[0.0,\"#0d0887\"],[0.1111111111111111,\"#46039f\"],[0.2222222222222222,\"#7201a8\"],[0.3333333333333333,\"#9c179e\"],[0.4444444444444444,\"#bd3786\"],[0.5555555555555556,\"#d8576b\"],[0.6666666666666666,\"#ed7953\"],[0.7777777777777778,\"#fb9f3a\"],[0.8888888888888888,\"#fdca26\"],[1.0,\"#f0f921\"]],\"type\":\"heatmap\"}],\"histogram2dcontour\":[{\"colorbar\":{\"outlinewidth\":0,\"ticks\":\"\"},\"colorscale\":[[0.0,\"#0d0887\"],[0.1111111111111111,\"#46039f\"],[0.2222222222222222,\"#7201a8\"],[0.3333333333333333,\"#9c179e\"],[0.4444444444444444,\"#bd3786\"],[0.5555555555555556,\"#d8576b\"],[0.6666666666666666,\"#ed7953\"],[0.7777777777777778,\"#fb9f3a\"],[0.8888888888888888,\"#fdca26\"],[1.0,\"#f0f921\"]],\"type\":\"histogram2dcontour\"}],\"histogram2d\":[{\"colorbar\":{\"outlinewidth\":0,\"ticks\":\"\"},\"colorscale\":[[0.0,\"#0d0887\"],[0.1111111111111111,\"#46039f\"],[0.2222222222222222,\"#7201a8\"],[0.3333333333333333,\"#9c179e\"],[0.4444444444444444,\"#bd3786\"],[0.5555555555555556,\"#d8576b\"],[0.6666666666666666,\"#ed7953\"],[0.7777777777777778,\"#fb9f3a\"],[0.8888888888888888,\"#fdca26\"],[1.0,\"#f0f921\"]],\"type\":\"histogram2d\"}],\"histogram\":[{\"marker\":{\"pattern\":{\"fillmode\":\"overlay\",\"size\":10,\"solidity\":0.2}},\"type\":\"histogram\"}],\"mesh3d\":[{\"colorbar\":{\"outlinewidth\":0,\"ticks\":\"\"},\"type\":\"mesh3d\"}],\"parcoords\":[{\"line\":{\"colorbar\":{\"outlinewidth\":0,\"ticks\":\"\"}},\"type\":\"parcoords\"}],\"pie\":[{\"automargin\":true,\"type\":\"pie\"}],\"scatter3d\":[{\"line\":{\"colorbar\":{\"outlinewidth\":0,\"ticks\":\"\"}},\"marker\":{\"colorbar\":{\"outlinewidth\":0,\"ticks\":\"\"}},\"type\":\"scatter3d\"}],\"scattercarpet\":[{\"marker\":{\"colorbar\":{\"outlinewidth\":0,\"ticks\":\"\"}},\"type\":\"scattercarpet\"}],\"scattergeo\":[{\"marker\":{\"colorbar\":{\"outlinewidth\":0,\"ticks\":\"\"}},\"type\":\"scattergeo\"}],\"scattergl\":[{\"marker\":{\"colorbar\":{\"outlinewidth\":0,\"ticks\":\"\"}},\"type\":\"scattergl\"}],\"scattermapbox\":[{\"marker\":{\"colorbar\":{\"outlinewidth\":0,\"ticks\":\"\"}},\"type\":\"scattermapbox\"}],\"scatterpolargl\":[{\"marker\":{\"colorbar\":{\"outlinewidth\":0,\"ticks\":\"\"}},\"type\":\"scatterpolargl\"}],\"scatterpolar\":[{\"marker\":{\"colorbar\":{\"outlinewidth\":0,\"ticks\":\"\"}},\"type\":\"scatterpolar\"}],\"scatter\":[{\"fillpattern\":{\"fillmode\":\"overlay\",\"size\":10,\"solidity\":0.2},\"type\":\"scatter\"}],\"scatterternary\":[{\"marker\":{\"colorbar\":{\"outlinewidth\":0,\"ticks\":\"\"}},\"type\":\"scatterternary\"}],\"surface\":[{\"colorbar\":{\"outlinewidth\":0,\"ticks\":\"\"},\"colorscale\":[[0.0,\"#0d0887\"],[0.1111111111111111,\"#46039f\"],[0.2222222222222222,\"#7201a8\"],[0.3333333333333333,\"#9c179e\"],[0.4444444444444444,\"#bd3786\"],[0.5555555555555556,\"#d8576b\"],[0.6666666666666666,\"#ed7953\"],[0.7777777777777778,\"#fb9f3a\"],[0.8888888888888888,\"#fdca26\"],[1.0,\"#f0f921\"]],\"type\":\"surface\"}],\"table\":[{\"cells\":{\"fill\":{\"color\":\"#EBF0F8\"},\"line\":{\"color\":\"white\"}},\"header\":{\"fill\":{\"color\":\"#C8D4E3\"},\"line\":{\"color\":\"white\"}},\"type\":\"table\"}]},\"layout\":{\"annotationdefaults\":{\"arrowcolor\":\"#2a3f5f\",\"arrowhead\":0,\"arrowwidth\":1},\"autotypenumbers\":\"strict\",\"coloraxis\":{\"colorbar\":{\"outlinewidth\":0,\"ticks\":\"\"}},\"colorscale\":{\"diverging\":[[0,\"#8e0152\"],[0.1,\"#c51b7d\"],[0.2,\"#de77ae\"],[0.3,\"#f1b6da\"],[0.4,\"#fde0ef\"],[0.5,\"#f7f7f7\"],[0.6,\"#e6f5d0\"],[0.7,\"#b8e186\"],[0.8,\"#7fbc41\"],[0.9,\"#4d9221\"],[1,\"#276419\"]],\"sequential\":[[0.0,\"#0d0887\"],[0.1111111111111111,\"#46039f\"],[0.2222222222222222,\"#7201a8\"],[0.3333333333333333,\"#9c179e\"],[0.4444444444444444,\"#bd3786\"],[0.5555555555555556,\"#d8576b\"],[0.6666666666666666,\"#ed7953\"],[0.7777777777777778,\"#fb9f3a\"],[0.8888888888888888,\"#fdca26\"],[1.0,\"#f0f921\"]],\"sequentialminus\":[[0.0,\"#0d0887\"],[0.1111111111111111,\"#46039f\"],[0.2222222222222222,\"#7201a8\"],[0.3333333333333333,\"#9c179e\"],[0.4444444444444444,\"#bd3786\"],[0.5555555555555556,\"#d8576b\"],[0.6666666666666666,\"#ed7953\"],[0.7777777777777778,\"#fb9f3a\"],[0.8888888888888888,\"#fdca26\"],[1.0,\"#f0f921\"]]},\"colorway\":[\"#636efa\",\"#EF553B\",\"#00cc96\",\"#ab63fa\",\"#FFA15A\",\"#19d3f3\",\"#FF6692\",\"#B6E880\",\"#FF97FF\",\"#FECB52\"],\"font\":{\"color\":\"#2a3f5f\"},\"geo\":{\"bgcolor\":\"white\",\"lakecolor\":\"white\",\"landcolor\":\"#E5ECF6\",\"showlakes\":true,\"showland\":true,\"subunitcolor\":\"white\"},\"hoverlabel\":{\"align\":\"left\"},\"hovermode\":\"closest\",\"mapbox\":{\"style\":\"light\"},\"paper_bgcolor\":\"white\",\"plot_bgcolor\":\"#E5ECF6\",\"polar\":{\"angularaxis\":{\"gridcolor\":\"white\",\"linecolor\":\"white\",\"ticks\":\"\"},\"bgcolor\":\"#E5ECF6\",\"radialaxis\":{\"gridcolor\":\"white\",\"linecolor\":\"white\",\"ticks\":\"\"}},\"scene\":{\"xaxis\":{\"backgroundcolor\":\"#E5ECF6\",\"gridcolor\":\"white\",\"gridwidth\":2,\"linecolor\":\"white\",\"showbackground\":true,\"ticks\":\"\",\"zerolinecolor\":\"white\"},\"yaxis\":{\"backgroundcolor\":\"#E5ECF6\",\"gridcolor\":\"white\",\"gridwidth\":2,\"linecolor\":\"white\",\"showbackground\":true,\"ticks\":\"\",\"zerolinecolor\":\"white\"},\"zaxis\":{\"backgroundcolor\":\"#E5ECF6\",\"gridcolor\":\"white\",\"gridwidth\":2,\"linecolor\":\"white\",\"showbackground\":true,\"ticks\":\"\",\"zerolinecolor\":\"white\"}},\"shapedefaults\":{\"line\":{\"color\":\"#2a3f5f\"}},\"ternary\":{\"aaxis\":{\"gridcolor\":\"white\",\"linecolor\":\"white\",\"ticks\":\"\"},\"baxis\":{\"gridcolor\":\"white\",\"linecolor\":\"white\",\"ticks\":\"\"},\"bgcolor\":\"#E5ECF6\",\"caxis\":{\"gridcolor\":\"white\",\"linecolor\":\"white\",\"ticks\":\"\"}},\"title\":{\"x\":0.05},\"xaxis\":{\"automargin\":true,\"gridcolor\":\"white\",\"linecolor\":\"white\",\"ticks\":\"\",\"title\":{\"standoff\":15},\"zerolinecolor\":\"white\",\"zerolinewidth\":2},\"yaxis\":{\"automargin\":true,\"gridcolor\":\"white\",\"linecolor\":\"white\",\"ticks\":\"\",\"title\":{\"standoff\":15},\"zerolinecolor\":\"white\",\"zerolinewidth\":2}}},\"title\":{\"text\":\"CSUSHPISA with the Slider \"},\"xaxis\":{\"rangeselector\":{\"buttons\":[{\"count\":1,\"label\":\"1m\",\"step\":\"month\",\"stepmode\":\"backward\"},{\"count\":6,\"label\":\"6m\",\"step\":\"month\",\"stepmode\":\"backward\"},{\"count\":12,\"label\":\"1y\",\"step\":\"month\",\"stepmode\":\"backward\"},{\"count\":36,\"label\":\"3y\",\"step\":\"month\",\"stepmode\":\"backward\"},{\"count\":60,\"label\":\"5y\",\"step\":\"month\",\"stepmode\":\"backward\"},{\"count\":120,\"label\":\"10y\",\"step\":\"month\",\"stepmode\":\"backward\"},{\"step\":\"all\"}]},\"rangeslider\":{\"visible\":true},\"type\":\"date\"}},                        {\"responsive\": true}                    ).then(function(){\n",
              "                            \n",
              "var gd = document.getElementById('2383d402-87ec-4faa-a40f-410a660792c5');\n",
              "var x = new MutationObserver(function (mutations, observer) {{\n",
              "        var display = window.getComputedStyle(gd).display;\n",
              "        if (!display || display === 'none') {{\n",
              "            console.log([gd, 'removed!']);\n",
              "            Plotly.purge(gd);\n",
              "            observer.disconnect();\n",
              "        }}\n",
              "}});\n",
              "\n",
              "// Listen for the removal of the full notebook cells\n",
              "var notebookContainer = gd.closest('#notebook-container');\n",
              "if (notebookContainer) {{\n",
              "    x.observe(notebookContainer, {childList: true});\n",
              "}}\n",
              "\n",
              "// Listen for the clearing of the current output cell\n",
              "var outputEl = gd.closest('.output');\n",
              "if (outputEl) {{\n",
              "    x.observe(outputEl, {childList: true});\n",
              "}}\n",
              "\n",
              "                        })                };                });            </script>        </div>"
            ]
          },
          "metadata": {}
        },
        {
          "output_type": "display_data",
          "data": {
            "text/html": [
              "<html>\n",
              "<head><meta charset=\"utf-8\" /></head>\n",
              "<body>\n",
              "    <div>            <script src=\"https://cdnjs.cloudflare.com/ajax/libs/mathjax/2.7.5/MathJax.js?config=TeX-AMS-MML_SVG\"></script><script type=\"text/javascript\">if (window.MathJax && window.MathJax.Hub && window.MathJax.Hub.Config) {window.MathJax.Hub.Config({SVG: {font: \"STIX-Web\"}});}</script>                <script type=\"text/javascript\">window.PlotlyConfig = {MathJaxConfig: 'local'};</script>\n",
              "        <script charset=\"utf-8\" src=\"https://cdn.plot.ly/plotly-2.24.1.min.js\"></script>                <div id=\"f2ca6d54-167e-4de3-9b76-ecaade9466b7\" class=\"plotly-graph-div\" style=\"height:525px; width:100%;\"></div>            <script type=\"text/javascript\">                                    window.PLOTLYENV=window.PLOTLYENV || {};                                    if (document.getElementById(\"f2ca6d54-167e-4de3-9b76-ecaade9466b7\")) {                    Plotly.newPlot(                        \"f2ca6d54-167e-4de3-9b76-ecaade9466b7\",                        [{\"mode\":\"lines\",\"name\":\"Open\",\"x\":[\"1987-01-01\",\"1987-02-01\",\"1987-03-01\",\"1987-04-01\",\"1987-05-01\",\"1987-06-01\",\"1987-07-01\",\"1987-08-01\",\"1987-09-01\",\"1987-10-01\",\"1987-11-01\",\"1987-12-01\",\"1988-01-01\",\"1988-02-01\",\"1988-03-01\",\"1988-04-01\",\"1988-05-01\",\"1988-06-01\",\"1988-07-01\",\"1988-08-01\",\"1988-09-01\",\"1988-10-01\",\"1988-11-01\",\"1988-12-01\",\"1989-01-01\",\"1989-02-01\",\"1989-03-01\",\"1989-04-01\",\"1989-05-01\",\"1989-06-01\",\"1989-07-01\",\"1989-08-01\",\"1989-09-01\",\"1989-10-01\",\"1989-11-01\",\"1989-12-01\",\"1990-01-01\",\"1990-02-01\",\"1990-03-01\",\"1990-04-01\",\"1990-05-01\",\"1990-06-01\",\"1990-07-01\",\"1990-08-01\",\"1990-09-01\",\"1990-10-01\",\"1990-11-01\",\"1990-12-01\",\"1991-01-01\",\"1991-02-01\",\"1991-03-01\",\"1991-04-01\",\"1991-05-01\",\"1991-06-01\",\"1991-07-01\",\"1991-08-01\",\"1991-09-01\",\"1991-10-01\",\"1991-11-01\",\"1991-12-01\",\"1992-01-01\",\"1992-02-01\",\"1992-03-01\",\"1992-04-01\",\"1992-05-01\",\"1992-06-01\",\"1992-07-01\",\"1992-08-01\",\"1992-09-01\",\"1992-10-01\",\"1992-11-01\",\"1992-12-01\",\"1993-01-01\",\"1993-02-01\",\"1993-03-01\",\"1993-04-01\",\"1993-05-01\",\"1993-06-01\",\"1993-07-01\",\"1993-08-01\",\"1993-09-01\",\"1993-10-01\",\"1993-11-01\",\"1993-12-01\",\"1994-01-01\",\"1994-02-01\",\"1994-03-01\",\"1994-04-01\",\"1994-05-01\",\"1994-06-01\",\"1994-07-01\",\"1994-08-01\",\"1994-09-01\",\"1994-10-01\",\"1994-11-01\",\"1994-12-01\",\"1995-01-01\",\"1995-02-01\",\"1995-03-01\",\"1995-04-01\",\"1995-05-01\",\"1995-06-01\",\"1995-07-01\",\"1995-08-01\",\"1995-09-01\",\"1995-10-01\",\"1995-11-01\",\"1995-12-01\",\"1996-01-01\",\"1996-02-01\",\"1996-03-01\",\"1996-04-01\",\"1996-05-01\",\"1996-06-01\",\"1996-07-01\",\"1996-08-01\",\"1996-09-01\",\"1996-10-01\",\"1996-11-01\",\"1996-12-01\",\"1997-01-01\",\"1997-02-01\",\"1997-03-01\",\"1997-04-01\",\"1997-05-01\",\"1997-06-01\",\"1997-07-01\",\"1997-08-01\",\"1997-09-01\",\"1997-10-01\",\"1997-11-01\",\"1997-12-01\",\"1998-01-01\",\"1998-02-01\",\"1998-03-01\",\"1998-04-01\",\"1998-05-01\",\"1998-06-01\",\"1998-07-01\",\"1998-08-01\",\"1998-09-01\",\"1998-10-01\",\"1998-11-01\",\"1998-12-01\",\"1999-01-01\",\"1999-02-01\",\"1999-03-01\",\"1999-04-01\",\"1999-05-01\",\"1999-06-01\",\"1999-07-01\",\"1999-08-01\",\"1999-09-01\",\"1999-10-01\",\"1999-11-01\",\"1999-12-01\",\"2000-01-01\",\"2000-02-01\",\"2000-03-01\",\"2000-04-01\",\"2000-05-01\",\"2000-06-01\",\"2000-07-01\",\"2000-08-01\",\"2000-09-01\",\"2000-10-01\",\"2000-11-01\",\"2000-12-01\",\"2001-01-01\",\"2001-02-01\",\"2001-03-01\",\"2001-04-01\",\"2001-05-01\",\"2001-06-01\",\"2001-07-01\",\"2001-08-01\",\"2001-09-01\",\"2001-10-01\",\"2001-11-01\",\"2001-12-01\",\"2002-01-01\",\"2002-02-01\",\"2002-03-01\",\"2002-04-01\",\"2002-05-01\",\"2002-06-01\",\"2002-07-01\",\"2002-08-01\",\"2002-09-01\",\"2002-10-01\",\"2002-11-01\",\"2002-12-01\",\"2003-01-01\",\"2003-02-01\",\"2003-03-01\",\"2003-04-01\",\"2003-05-01\",\"2003-06-01\",\"2003-07-01\",\"2003-08-01\",\"2003-09-01\",\"2003-10-01\",\"2003-11-01\",\"2003-12-01\",\"2004-01-01\",\"2004-02-01\",\"2004-03-01\",\"2004-04-01\",\"2004-05-01\",\"2004-06-01\",\"2004-07-01\",\"2004-08-01\",\"2004-09-01\",\"2004-10-01\",\"2004-11-01\",\"2004-12-01\",\"2005-01-01\",\"2005-02-01\",\"2005-03-01\",\"2005-04-01\",\"2005-05-01\",\"2005-06-01\",\"2005-07-01\",\"2005-08-01\",\"2005-09-01\",\"2005-10-01\",\"2005-11-01\",\"2005-12-01\",\"2006-01-01\",\"2006-02-01\",\"2006-03-01\",\"2006-04-01\",\"2006-05-01\",\"2006-06-01\",\"2006-07-01\",\"2006-08-01\",\"2006-09-01\",\"2006-10-01\",\"2006-11-01\",\"2006-12-01\",\"2007-01-01\",\"2007-02-01\",\"2007-03-01\",\"2007-04-01\",\"2007-05-01\",\"2007-06-01\",\"2007-07-01\",\"2007-08-01\",\"2007-09-01\",\"2007-10-01\",\"2007-11-01\",\"2007-12-01\",\"2008-01-01\",\"2008-02-01\",\"2008-03-01\",\"2008-04-01\",\"2008-05-01\",\"2008-06-01\",\"2008-07-01\",\"2008-08-01\",\"2008-09-01\",\"2008-10-01\",\"2008-11-01\",\"2008-12-01\",\"2009-01-01\",\"2009-02-01\",\"2009-03-01\",\"2009-04-01\",\"2009-05-01\",\"2009-06-01\",\"2009-07-01\",\"2009-08-01\",\"2009-09-01\",\"2009-10-01\",\"2009-11-01\",\"2009-12-01\",\"2010-01-01\",\"2010-02-01\",\"2010-03-01\",\"2010-04-01\",\"2010-05-01\",\"2010-06-01\",\"2010-07-01\",\"2010-08-01\",\"2010-09-01\",\"2010-10-01\",\"2010-11-01\",\"2010-12-01\",\"2011-01-01\",\"2011-02-01\",\"2011-03-01\",\"2011-04-01\",\"2011-05-01\",\"2011-06-01\",\"2011-07-01\",\"2011-08-01\",\"2011-09-01\",\"2011-10-01\",\"2011-11-01\",\"2011-12-01\",\"2012-01-01\",\"2012-02-01\",\"2012-03-01\",\"2012-04-01\",\"2012-05-01\",\"2012-06-01\",\"2012-07-01\",\"2012-08-01\",\"2012-09-01\",\"2012-10-01\",\"2012-11-01\",\"2012-12-01\",\"2013-01-01\",\"2013-02-01\",\"2013-03-01\",\"2013-04-01\",\"2013-05-01\",\"2013-06-01\",\"2013-07-01\",\"2013-08-01\",\"2013-09-01\",\"2013-10-01\",\"2013-11-01\",\"2013-12-01\",\"2014-01-01\",\"2014-02-01\",\"2014-03-01\",\"2014-04-01\",\"2014-05-01\",\"2014-06-01\",\"2014-07-01\",\"2014-08-01\",\"2014-09-01\",\"2014-10-01\",\"2014-11-01\",\"2014-12-01\",\"2015-01-01\",\"2015-02-01\",\"2015-03-01\",\"2015-04-01\",\"2015-05-01\",\"2015-06-01\",\"2015-07-01\",\"2015-08-01\",\"2015-09-01\",\"2015-10-01\",\"2015-11-01\",\"2015-12-01\",\"2016-01-01\",\"2016-02-01\",\"2016-03-01\",\"2016-04-01\",\"2016-05-01\",\"2016-06-01\",\"2016-07-01\",\"2016-08-01\",\"2016-09-01\",\"2016-10-01\",\"2016-11-01\",\"2016-12-01\",\"2017-01-01\",\"2017-02-01\",\"2017-03-01\",\"2017-04-01\",\"2017-05-01\",\"2017-06-01\",\"2017-07-01\",\"2017-08-01\",\"2017-09-01\",\"2017-10-01\",\"2017-11-01\",\"2017-12-01\",\"2018-01-01\",\"2018-02-01\",\"2018-03-01\",\"2018-04-01\",\"2018-05-01\",\"2018-06-01\",\"2018-07-01\",\"2018-08-01\",\"2018-09-01\",\"2018-10-01\",\"2018-11-01\",\"2018-12-01\",\"2019-01-01\",\"2019-02-01\",\"2019-03-01\",\"2019-04-01\",\"2019-05-01\",\"2019-06-01\",\"2019-07-01\",\"2019-08-01\",\"2019-09-01\",\"2019-10-01\",\"2019-11-01\",\"2019-12-01\",\"2020-01-01\",\"2020-02-01\",\"2020-03-01\",\"2020-04-01\",\"2020-05-01\",\"2020-06-01\",\"2020-07-01\",\"2020-08-01\",\"2020-09-01\",\"2020-10-01\",\"2020-11-01\",\"2020-12-01\",\"2021-01-01\",\"2021-02-01\",\"2021-03-01\",\"2021-04-01\",\"2021-05-01\",\"2021-06-01\",\"2021-07-01\",\"2021-08-01\",\"2021-09-01\",\"2021-10-01\",\"2021-11-01\",\"2021-12-01\",\"2022-01-01\",\"2022-02-01\",\"2022-03-01\",\"2022-04-01\",\"2022-05-01\",\"2022-06-01\",\"2022-07-01\",\"2022-08-01\",\"2022-09-01\",\"2022-10-01\",\"2022-11-01\",\"2022-12-01\",\"2023-01-01\",\"2023-02-01\",\"2023-03-01\",\"2023-04-01\",\"2023-05-01\",\"2023-06-01\",\"2023-07-01\"],\"y\":[63.964,64.42399999999999,64.736,65.132,65.563,66.071,66.507,66.938,67.33,67.73899999999999,68.107,68.506,68.858,69.263,69.64,69.977,70.426,70.889,71.354,71.79899999999999,72.24,72.635,73.071,73.46600000000001,73.946,74.382,74.778,75.086,75.306,75.479,75.657,75.835,76.056,76.283,76.52,76.705,76.89699999999999,77.053,77.202,77.278,77.297,77.259,77.139,77.009,76.85,76.699,76.369,76.185,75.915,75.734,75.569,75.565,75.764,75.993,76.082,76.109,76.193,76.074,76.013,76.055,76.086,76.155,76.27600000000001,76.345,76.398,76.331,76.263,76.229,76.238,76.375,76.557,76.673,76.783,76.836,76.867,76.935,77.03699999999999,77.242,77.428,77.612,77.794,77.94,78.14699999999999,78.325,78.59,78.726,78.855,78.986,79.221,79.421,79.594,79.78,79.918,80.064,80.149,80.295,80.426,80.527,80.597,80.66,80.703,80.78399999999999,80.936,81.109,81.306,81.48100000000001,81.618,81.735,81.833,81.95200000000001,82.193,82.419,82.609,82.751,82.927,83.085,83.255,83.376,83.551,83.72,83.954,84.18,84.45100000000001,84.62200000000001,84.86,85.079,85.331,85.572,85.85,86.146,86.632,87.09200000000001,87.61399999999999,88.001,88.44,88.87700000000001,89.363,89.84299999999999,90.309,90.784,91.257,91.716,92.198,92.711,93.207,93.67,94.217,94.783,95.343,95.974,96.59,97.218,97.861,98.522,99.153,99.843,100.551,101.339,102.127,102.923,103.678,104.424,105.054,105.768,106.538,107.382,108.302,109.14,109.846,110.501,111.109,111.652,112.164,112.796,113.491,114.167,114.812,115.31,115.858,116.455,117.143,117.845,118.687,119.611,120.724,121.813,122.888,123.83,124.78,125.735,126.67,127.624,128.461,129.355,130.148,130.884,131.734,132.649,133.77700000000002,134.969,136.29399999999998,137.532,138.79399999999998,140.179,141.64600000000002,143.192,145.059,146.593,148.186,149.85,151.338,152.63299999999998,154.179,155.75,157.52700000000002,159.33,161.28799999999998,163.344,165.812,167.50099999999998,169.351,171.19,172.86,174.442,176.438,178.028,179.68,180.91,182.321,183.287,184.364,184.329,184.156,183.507,183.068,182.594,182.798,183.198,183.609,184.139,184.517,184.598,184.15,183.01,181.6,180.254,179.111,178.116,177.558,176.62400000000002,175.14700000000002,174.342,173.132,171.541,170.053,168.338,166.65900000000002,165.017,163.566,161.987,160.308,158.327,156.142,153.619,151.507,150.015,148.66,147.94899999999998,147.694,148.09,148.41,148.278,148.025,147.85,148.134,147.929,147.39600000000002,145.631,145.859,146.403,146.394,145.721,144.991,143.916,143.019,142.531,142.173,142.06,141.52100000000002,140.35,139.981,140.01,139.905,139.862,139.73,139.309,138.668,137.952,137.15200000000002,136.674,136.607,136.533,137.904,139.154,140.155,141.029,141.66899999999998,142.279,142.908,143.6,144.585,145.503,146.827,147.785,149.963,151.519,152.85,154.19899999999998,155.60399999999998,156.965,158.227,159.24200000000002,160.075,160.994,161.92700000000002,162.525,163.086,163.393,163.66,164.062,164.578,165.215,165.905,166.642,167.335,168.051,168.634,169.13,169.8,170.298,170.88099999999997,171.468,172.13099999999997,172.93599999999998,173.828,174.792,175.738,176.545,177.273,177.649,178.165,178.767,179.43,180.08,180.832,181.852,182.824,183.752,184.76,185.725,186.801,187.312,187.991,188.724,189.617,190.51,191.451,192.667,193.763,194.811,195.962,197.176,198.303,199.217,199.954,200.654,201.428,202.238,202.912,203.697,204.365,205.138,205.685,206.161,206.517,206.817,207.024,207.506,208.148,208.67,209.277,210.12,210.93400000000003,211.844,212.817,213.938,214.954,215.773,216.317,216.803,217.009,217.656,219.352,222.449,225.885,229.84,233.254,236.491,239.497,242.215,245.319,249.063,253.465,258.42900000000003,262.763,266.955,270.447,273.855,277.28,281.348,285.829,290.92400000000004,296.228,300.569,303.863,304.832,303.8,301.637,299.44,299.033,298.35,297.425,296.922,297.273,298.396,300.208,302.685,304.741,306.72],\"type\":\"scatter\"}],                        {\"title\":{\"text\":\"CSUSHPISA with the Slider \"},\"xaxis\":{\"rangeselector\":{\"buttons\":[{\"count\":1,\"label\":\"1m\",\"step\":\"month\",\"stepmode\":\"backward\"},{\"count\":6,\"label\":\"6m\",\"step\":\"month\",\"stepmode\":\"backward\"},{\"count\":12,\"label\":\"1y\",\"step\":\"month\",\"stepmode\":\"backward\"},{\"count\":36,\"label\":\"3y\",\"step\":\"month\",\"stepmode\":\"backward\"},{\"count\":60,\"label\":\"5y\",\"step\":\"month\",\"stepmode\":\"backward\"},{\"count\":120,\"label\":\"10y\",\"step\":\"month\",\"stepmode\":\"backward\"},{\"step\":\"all\"}]},\"rangeslider\":{\"visible\":true},\"type\":\"date\"},\"template\":{\"data\":{\"histogram2dcontour\":[{\"type\":\"histogram2dcontour\",\"colorbar\":{\"outlinewidth\":0,\"ticks\":\"\"},\"colorscale\":[[0.0,\"#0d0887\"],[0.1111111111111111,\"#46039f\"],[0.2222222222222222,\"#7201a8\"],[0.3333333333333333,\"#9c179e\"],[0.4444444444444444,\"#bd3786\"],[0.5555555555555556,\"#d8576b\"],[0.6666666666666666,\"#ed7953\"],[0.7777777777777778,\"#fb9f3a\"],[0.8888888888888888,\"#fdca26\"],[1.0,\"#f0f921\"]]}],\"choropleth\":[{\"type\":\"choropleth\",\"colorbar\":{\"outlinewidth\":0,\"ticks\":\"\"}}],\"histogram2d\":[{\"type\":\"histogram2d\",\"colorbar\":{\"outlinewidth\":0,\"ticks\":\"\"},\"colorscale\":[[0.0,\"#0d0887\"],[0.1111111111111111,\"#46039f\"],[0.2222222222222222,\"#7201a8\"],[0.3333333333333333,\"#9c179e\"],[0.4444444444444444,\"#bd3786\"],[0.5555555555555556,\"#d8576b\"],[0.6666666666666666,\"#ed7953\"],[0.7777777777777778,\"#fb9f3a\"],[0.8888888888888888,\"#fdca26\"],[1.0,\"#f0f921\"]]}],\"heatmap\":[{\"type\":\"heatmap\",\"colorbar\":{\"outlinewidth\":0,\"ticks\":\"\"},\"colorscale\":[[0.0,\"#0d0887\"],[0.1111111111111111,\"#46039f\"],[0.2222222222222222,\"#7201a8\"],[0.3333333333333333,\"#9c179e\"],[0.4444444444444444,\"#bd3786\"],[0.5555555555555556,\"#d8576b\"],[0.6666666666666666,\"#ed7953\"],[0.7777777777777778,\"#fb9f3a\"],[0.8888888888888888,\"#fdca26\"],[1.0,\"#f0f921\"]]}],\"heatmapgl\":[{\"type\":\"heatmapgl\",\"colorbar\":{\"outlinewidth\":0,\"ticks\":\"\"},\"colorscale\":[[0.0,\"#0d0887\"],[0.1111111111111111,\"#46039f\"],[0.2222222222222222,\"#7201a8\"],[0.3333333333333333,\"#9c179e\"],[0.4444444444444444,\"#bd3786\"],[0.5555555555555556,\"#d8576b\"],[0.6666666666666666,\"#ed7953\"],[0.7777777777777778,\"#fb9f3a\"],[0.8888888888888888,\"#fdca26\"],[1.0,\"#f0f921\"]]}],\"contourcarpet\":[{\"type\":\"contourcarpet\",\"colorbar\":{\"outlinewidth\":0,\"ticks\":\"\"}}],\"contour\":[{\"type\":\"contour\",\"colorbar\":{\"outlinewidth\":0,\"ticks\":\"\"},\"colorscale\":[[0.0,\"#0d0887\"],[0.1111111111111111,\"#46039f\"],[0.2222222222222222,\"#7201a8\"],[0.3333333333333333,\"#9c179e\"],[0.4444444444444444,\"#bd3786\"],[0.5555555555555556,\"#d8576b\"],[0.6666666666666666,\"#ed7953\"],[0.7777777777777778,\"#fb9f3a\"],[0.8888888888888888,\"#fdca26\"],[1.0,\"#f0f921\"]]}],\"surface\":[{\"type\":\"surface\",\"colorbar\":{\"outlinewidth\":0,\"ticks\":\"\"},\"colorscale\":[[0.0,\"#0d0887\"],[0.1111111111111111,\"#46039f\"],[0.2222222222222222,\"#7201a8\"],[0.3333333333333333,\"#9c179e\"],[0.4444444444444444,\"#bd3786\"],[0.5555555555555556,\"#d8576b\"],[0.6666666666666666,\"#ed7953\"],[0.7777777777777778,\"#fb9f3a\"],[0.8888888888888888,\"#fdca26\"],[1.0,\"#f0f921\"]]}],\"mesh3d\":[{\"type\":\"mesh3d\",\"colorbar\":{\"outlinewidth\":0,\"ticks\":\"\"}}],\"scatter\":[{\"fillpattern\":{\"fillmode\":\"overlay\",\"size\":10,\"solidity\":0.2},\"type\":\"scatter\"}],\"parcoords\":[{\"type\":\"parcoords\",\"line\":{\"colorbar\":{\"outlinewidth\":0,\"ticks\":\"\"}}}],\"scatterpolargl\":[{\"type\":\"scatterpolargl\",\"marker\":{\"colorbar\":{\"outlinewidth\":0,\"ticks\":\"\"}}}],\"bar\":[{\"error_x\":{\"color\":\"#2a3f5f\"},\"error_y\":{\"color\":\"#2a3f5f\"},\"marker\":{\"line\":{\"color\":\"#E5ECF6\",\"width\":0.5},\"pattern\":{\"fillmode\":\"overlay\",\"size\":10,\"solidity\":0.2}},\"type\":\"bar\"}],\"scattergeo\":[{\"type\":\"scattergeo\",\"marker\":{\"colorbar\":{\"outlinewidth\":0,\"ticks\":\"\"}}}],\"scatterpolar\":[{\"type\":\"scatterpolar\",\"marker\":{\"colorbar\":{\"outlinewidth\":0,\"ticks\":\"\"}}}],\"histogram\":[{\"marker\":{\"pattern\":{\"fillmode\":\"overlay\",\"size\":10,\"solidity\":0.2}},\"type\":\"histogram\"}],\"scattergl\":[{\"type\":\"scattergl\",\"marker\":{\"colorbar\":{\"outlinewidth\":0,\"ticks\":\"\"}}}],\"scatter3d\":[{\"type\":\"scatter3d\",\"line\":{\"colorbar\":{\"outlinewidth\":0,\"ticks\":\"\"}},\"marker\":{\"colorbar\":{\"outlinewidth\":0,\"ticks\":\"\"}}}],\"scattermapbox\":[{\"type\":\"scattermapbox\",\"marker\":{\"colorbar\":{\"outlinewidth\":0,\"ticks\":\"\"}}}],\"scatterternary\":[{\"type\":\"scatterternary\",\"marker\":{\"colorbar\":{\"outlinewidth\":0,\"ticks\":\"\"}}}],\"scattercarpet\":[{\"type\":\"scattercarpet\",\"marker\":{\"colorbar\":{\"outlinewidth\":0,\"ticks\":\"\"}}}],\"carpet\":[{\"aaxis\":{\"endlinecolor\":\"#2a3f5f\",\"gridcolor\":\"white\",\"linecolor\":\"white\",\"minorgridcolor\":\"white\",\"startlinecolor\":\"#2a3f5f\"},\"baxis\":{\"endlinecolor\":\"#2a3f5f\",\"gridcolor\":\"white\",\"linecolor\":\"white\",\"minorgridcolor\":\"white\",\"startlinecolor\":\"#2a3f5f\"},\"type\":\"carpet\"}],\"table\":[{\"cells\":{\"fill\":{\"color\":\"#EBF0F8\"},\"line\":{\"color\":\"white\"}},\"header\":{\"fill\":{\"color\":\"#C8D4E3\"},\"line\":{\"color\":\"white\"}},\"type\":\"table\"}],\"barpolar\":[{\"marker\":{\"line\":{\"color\":\"#E5ECF6\",\"width\":0.5},\"pattern\":{\"fillmode\":\"overlay\",\"size\":10,\"solidity\":0.2}},\"type\":\"barpolar\"}],\"pie\":[{\"automargin\":true,\"type\":\"pie\"}]},\"layout\":{\"autotypenumbers\":\"strict\",\"colorway\":[\"#636efa\",\"#EF553B\",\"#00cc96\",\"#ab63fa\",\"#FFA15A\",\"#19d3f3\",\"#FF6692\",\"#B6E880\",\"#FF97FF\",\"#FECB52\"],\"font\":{\"color\":\"#2a3f5f\"},\"hovermode\":\"closest\",\"hoverlabel\":{\"align\":\"left\"},\"paper_bgcolor\":\"white\",\"plot_bgcolor\":\"#E5ECF6\",\"polar\":{\"bgcolor\":\"#E5ECF6\",\"angularaxis\":{\"gridcolor\":\"white\",\"linecolor\":\"white\",\"ticks\":\"\"},\"radialaxis\":{\"gridcolor\":\"white\",\"linecolor\":\"white\",\"ticks\":\"\"}},\"ternary\":{\"bgcolor\":\"#E5ECF6\",\"aaxis\":{\"gridcolor\":\"white\",\"linecolor\":\"white\",\"ticks\":\"\"},\"baxis\":{\"gridcolor\":\"white\",\"linecolor\":\"white\",\"ticks\":\"\"},\"caxis\":{\"gridcolor\":\"white\",\"linecolor\":\"white\",\"ticks\":\"\"}},\"coloraxis\":{\"colorbar\":{\"outlinewidth\":0,\"ticks\":\"\"}},\"colorscale\":{\"sequential\":[[0.0,\"#0d0887\"],[0.1111111111111111,\"#46039f\"],[0.2222222222222222,\"#7201a8\"],[0.3333333333333333,\"#9c179e\"],[0.4444444444444444,\"#bd3786\"],[0.5555555555555556,\"#d8576b\"],[0.6666666666666666,\"#ed7953\"],[0.7777777777777778,\"#fb9f3a\"],[0.8888888888888888,\"#fdca26\"],[1.0,\"#f0f921\"]],\"sequentialminus\":[[0.0,\"#0d0887\"],[0.1111111111111111,\"#46039f\"],[0.2222222222222222,\"#7201a8\"],[0.3333333333333333,\"#9c179e\"],[0.4444444444444444,\"#bd3786\"],[0.5555555555555556,\"#d8576b\"],[0.6666666666666666,\"#ed7953\"],[0.7777777777777778,\"#fb9f3a\"],[0.8888888888888888,\"#fdca26\"],[1.0,\"#f0f921\"]],\"diverging\":[[0,\"#8e0152\"],[0.1,\"#c51b7d\"],[0.2,\"#de77ae\"],[0.3,\"#f1b6da\"],[0.4,\"#fde0ef\"],[0.5,\"#f7f7f7\"],[0.6,\"#e6f5d0\"],[0.7,\"#b8e186\"],[0.8,\"#7fbc41\"],[0.9,\"#4d9221\"],[1,\"#276419\"]]},\"xaxis\":{\"gridcolor\":\"white\",\"linecolor\":\"white\",\"ticks\":\"\",\"title\":{\"standoff\":15},\"zerolinecolor\":\"white\",\"automargin\":true,\"zerolinewidth\":2},\"yaxis\":{\"gridcolor\":\"white\",\"linecolor\":\"white\",\"ticks\":\"\",\"title\":{\"standoff\":15},\"zerolinecolor\":\"white\",\"automargin\":true,\"zerolinewidth\":2},\"scene\":{\"xaxis\":{\"backgroundcolor\":\"#E5ECF6\",\"gridcolor\":\"white\",\"linecolor\":\"white\",\"showbackground\":true,\"ticks\":\"\",\"zerolinecolor\":\"white\",\"gridwidth\":2},\"yaxis\":{\"backgroundcolor\":\"#E5ECF6\",\"gridcolor\":\"white\",\"linecolor\":\"white\",\"showbackground\":true,\"ticks\":\"\",\"zerolinecolor\":\"white\",\"gridwidth\":2},\"zaxis\":{\"backgroundcolor\":\"#E5ECF6\",\"gridcolor\":\"white\",\"linecolor\":\"white\",\"showbackground\":true,\"ticks\":\"\",\"zerolinecolor\":\"white\",\"gridwidth\":2}},\"shapedefaults\":{\"line\":{\"color\":\"#2a3f5f\"}},\"annotationdefaults\":{\"arrowcolor\":\"#2a3f5f\",\"arrowhead\":0,\"arrowwidth\":1},\"geo\":{\"bgcolor\":\"white\",\"landcolor\":\"#E5ECF6\",\"subunitcolor\":\"white\",\"showland\":true,\"showlakes\":true,\"lakecolor\":\"white\"},\"title\":{\"x\":0.05},\"mapbox\":{\"style\":\"light\"}}}},                        {\"responsive\": true}                    ).then(function(){\n",
              "                            \n",
              "var gd = document.getElementById('f2ca6d54-167e-4de3-9b76-ecaade9466b7');\n",
              "var x = new MutationObserver(function (mutations, observer) {{\n",
              "        var display = window.getComputedStyle(gd).display;\n",
              "        if (!display || display === 'none') {{\n",
              "            console.log([gd, 'removed!']);\n",
              "            Plotly.purge(gd);\n",
              "            observer.disconnect();\n",
              "        }}\n",
              "}});\n",
              "\n",
              "// Listen for the removal of the full notebook cells\n",
              "var notebookContainer = gd.closest('#notebook-container');\n",
              "if (notebookContainer) {{\n",
              "    x.observe(notebookContainer, {childList: true});\n",
              "}}\n",
              "\n",
              "// Listen for the clearing of the current output cell\n",
              "var outputEl = gd.closest('.output');\n",
              "if (outputEl) {{\n",
              "    x.observe(outputEl, {childList: true});\n",
              "}}\n",
              "\n",
              "                        })                };                            </script>        </div>\n",
              "</body>\n",
              "</html>"
            ]
          },
          "metadata": {}
        }
      ]
    },
    {
      "cell_type": "markdown",
      "source": [
        "Decomposition"
      ],
      "metadata": {
        "id": "lRSAzPXnsw4v"
      }
    },
    {
      "cell_type": "code",
      "source": [
        "from scipy import stats\n",
        "import statsmodels.api as sm\n",
        "import warnings\n",
        "from itertools import product"
      ],
      "metadata": {
        "id": "MxsAY2g1r41C"
      },
      "execution_count": 143,
      "outputs": []
    },
    {
      "cell_type": "code",
      "source": [
        "df= df.set_index(['DATE'])"
      ],
      "metadata": {
        "id": "X731yCBxArYK"
      },
      "execution_count": 144,
      "outputs": []
    },
    {
      "cell_type": "code",
      "source": [
        "df"
      ],
      "metadata": {
        "colab": {
          "base_uri": "https://localhost:8080/",
          "height": 455
        },
        "id": "nMFCuT28Banh",
        "outputId": "4d2f25de-b81e-493b-c235-2c332da8f6c8"
      },
      "execution_count": 146,
      "outputs": [
        {
          "output_type": "execute_result",
          "data": {
            "text/plain": [
              "            CSUSHPISA\n",
              "DATE                 \n",
              "1987-01-01     63.964\n",
              "1987-02-01     64.424\n",
              "1987-03-01     64.736\n",
              "1987-04-01     65.132\n",
              "1987-05-01     65.563\n",
              "...               ...\n",
              "2023-03-01    298.396\n",
              "2023-04-01    300.208\n",
              "2023-05-01    302.685\n",
              "2023-06-01    304.741\n",
              "2023-07-01    306.720\n",
              "\n",
              "[439 rows x 1 columns]"
            ],
            "text/html": [
              "\n",
              "  <div id=\"df-3639d6ad-a825-437e-a594-2c1ab1fe9e60\" class=\"colab-df-container\">\n",
              "    <div>\n",
              "<style scoped>\n",
              "    .dataframe tbody tr th:only-of-type {\n",
              "        vertical-align: middle;\n",
              "    }\n",
              "\n",
              "    .dataframe tbody tr th {\n",
              "        vertical-align: top;\n",
              "    }\n",
              "\n",
              "    .dataframe thead th {\n",
              "        text-align: right;\n",
              "    }\n",
              "</style>\n",
              "<table border=\"1\" class=\"dataframe\">\n",
              "  <thead>\n",
              "    <tr style=\"text-align: right;\">\n",
              "      <th></th>\n",
              "      <th>CSUSHPISA</th>\n",
              "    </tr>\n",
              "    <tr>\n",
              "      <th>DATE</th>\n",
              "      <th></th>\n",
              "    </tr>\n",
              "  </thead>\n",
              "  <tbody>\n",
              "    <tr>\n",
              "      <th>1987-01-01</th>\n",
              "      <td>63.964</td>\n",
              "    </tr>\n",
              "    <tr>\n",
              "      <th>1987-02-01</th>\n",
              "      <td>64.424</td>\n",
              "    </tr>\n",
              "    <tr>\n",
              "      <th>1987-03-01</th>\n",
              "      <td>64.736</td>\n",
              "    </tr>\n",
              "    <tr>\n",
              "      <th>1987-04-01</th>\n",
              "      <td>65.132</td>\n",
              "    </tr>\n",
              "    <tr>\n",
              "      <th>1987-05-01</th>\n",
              "      <td>65.563</td>\n",
              "    </tr>\n",
              "    <tr>\n",
              "      <th>...</th>\n",
              "      <td>...</td>\n",
              "    </tr>\n",
              "    <tr>\n",
              "      <th>2023-03-01</th>\n",
              "      <td>298.396</td>\n",
              "    </tr>\n",
              "    <tr>\n",
              "      <th>2023-04-01</th>\n",
              "      <td>300.208</td>\n",
              "    </tr>\n",
              "    <tr>\n",
              "      <th>2023-05-01</th>\n",
              "      <td>302.685</td>\n",
              "    </tr>\n",
              "    <tr>\n",
              "      <th>2023-06-01</th>\n",
              "      <td>304.741</td>\n",
              "    </tr>\n",
              "    <tr>\n",
              "      <th>2023-07-01</th>\n",
              "      <td>306.720</td>\n",
              "    </tr>\n",
              "  </tbody>\n",
              "</table>\n",
              "<p>439 rows × 1 columns</p>\n",
              "</div>\n",
              "    <div class=\"colab-df-buttons\">\n",
              "\n",
              "  <div class=\"colab-df-container\">\n",
              "    <button class=\"colab-df-convert\" onclick=\"convertToInteractive('df-3639d6ad-a825-437e-a594-2c1ab1fe9e60')\"\n",
              "            title=\"Convert this dataframe to an interactive table.\"\n",
              "            style=\"display:none;\">\n",
              "\n",
              "  <svg xmlns=\"http://www.w3.org/2000/svg\" height=\"24px\" viewBox=\"0 -960 960 960\">\n",
              "    <path d=\"M120-120v-720h720v720H120Zm60-500h600v-160H180v160Zm220 220h160v-160H400v160Zm0 220h160v-160H400v160ZM180-400h160v-160H180v160Zm440 0h160v-160H620v160ZM180-180h160v-160H180v160Zm440 0h160v-160H620v160Z\"/>\n",
              "  </svg>\n",
              "    </button>\n",
              "\n",
              "  <style>\n",
              "    .colab-df-container {\n",
              "      display:flex;\n",
              "      gap: 12px;\n",
              "    }\n",
              "\n",
              "    .colab-df-convert {\n",
              "      background-color: #E8F0FE;\n",
              "      border: none;\n",
              "      border-radius: 50%;\n",
              "      cursor: pointer;\n",
              "      display: none;\n",
              "      fill: #1967D2;\n",
              "      height: 32px;\n",
              "      padding: 0 0 0 0;\n",
              "      width: 32px;\n",
              "    }\n",
              "\n",
              "    .colab-df-convert:hover {\n",
              "      background-color: #E2EBFA;\n",
              "      box-shadow: 0px 1px 2px rgba(60, 64, 67, 0.3), 0px 1px 3px 1px rgba(60, 64, 67, 0.15);\n",
              "      fill: #174EA6;\n",
              "    }\n",
              "\n",
              "    .colab-df-buttons div {\n",
              "      margin-bottom: 4px;\n",
              "    }\n",
              "\n",
              "    [theme=dark] .colab-df-convert {\n",
              "      background-color: #3B4455;\n",
              "      fill: #D2E3FC;\n",
              "    }\n",
              "\n",
              "    [theme=dark] .colab-df-convert:hover {\n",
              "      background-color: #434B5C;\n",
              "      box-shadow: 0px 1px 3px 1px rgba(0, 0, 0, 0.15);\n",
              "      filter: drop-shadow(0px 1px 2px rgba(0, 0, 0, 0.3));\n",
              "      fill: #FFFFFF;\n",
              "    }\n",
              "  </style>\n",
              "\n",
              "    <script>\n",
              "      const buttonEl =\n",
              "        document.querySelector('#df-3639d6ad-a825-437e-a594-2c1ab1fe9e60 button.colab-df-convert');\n",
              "      buttonEl.style.display =\n",
              "        google.colab.kernel.accessAllowed ? 'block' : 'none';\n",
              "\n",
              "      async function convertToInteractive(key) {\n",
              "        const element = document.querySelector('#df-3639d6ad-a825-437e-a594-2c1ab1fe9e60');\n",
              "        const dataTable =\n",
              "          await google.colab.kernel.invokeFunction('convertToInteractive',\n",
              "                                                    [key], {});\n",
              "        if (!dataTable) return;\n",
              "\n",
              "        const docLinkHtml = 'Like what you see? Visit the ' +\n",
              "          '<a target=\"_blank\" href=https://colab.research.google.com/notebooks/data_table.ipynb>data table notebook</a>'\n",
              "          + ' to learn more about interactive tables.';\n",
              "        element.innerHTML = '';\n",
              "        dataTable['output_type'] = 'display_data';\n",
              "        await google.colab.output.renderOutput(dataTable, element);\n",
              "        const docLink = document.createElement('div');\n",
              "        docLink.innerHTML = docLinkHtml;\n",
              "        element.appendChild(docLink);\n",
              "      }\n",
              "    </script>\n",
              "  </div>\n",
              "\n",
              "\n",
              "<div id=\"df-2f1c427a-2e3b-43d4-8f63-db5b40398f44\">\n",
              "  <button class=\"colab-df-quickchart\" onclick=\"quickchart('df-2f1c427a-2e3b-43d4-8f63-db5b40398f44')\"\n",
              "            title=\"Suggest charts.\"\n",
              "            style=\"display:none;\">\n",
              "\n",
              "<svg xmlns=\"http://www.w3.org/2000/svg\" height=\"24px\"viewBox=\"0 0 24 24\"\n",
              "     width=\"24px\">\n",
              "    <g>\n",
              "        <path d=\"M19 3H5c-1.1 0-2 .9-2 2v14c0 1.1.9 2 2 2h14c1.1 0 2-.9 2-2V5c0-1.1-.9-2-2-2zM9 17H7v-7h2v7zm4 0h-2V7h2v10zm4 0h-2v-4h2v4z\"/>\n",
              "    </g>\n",
              "</svg>\n",
              "  </button>\n",
              "\n",
              "<style>\n",
              "  .colab-df-quickchart {\n",
              "      --bg-color: #E8F0FE;\n",
              "      --fill-color: #1967D2;\n",
              "      --hover-bg-color: #E2EBFA;\n",
              "      --hover-fill-color: #174EA6;\n",
              "      --disabled-fill-color: #AAA;\n",
              "      --disabled-bg-color: #DDD;\n",
              "  }\n",
              "\n",
              "  [theme=dark] .colab-df-quickchart {\n",
              "      --bg-color: #3B4455;\n",
              "      --fill-color: #D2E3FC;\n",
              "      --hover-bg-color: #434B5C;\n",
              "      --hover-fill-color: #FFFFFF;\n",
              "      --disabled-bg-color: #3B4455;\n",
              "      --disabled-fill-color: #666;\n",
              "  }\n",
              "\n",
              "  .colab-df-quickchart {\n",
              "    background-color: var(--bg-color);\n",
              "    border: none;\n",
              "    border-radius: 50%;\n",
              "    cursor: pointer;\n",
              "    display: none;\n",
              "    fill: var(--fill-color);\n",
              "    height: 32px;\n",
              "    padding: 0;\n",
              "    width: 32px;\n",
              "  }\n",
              "\n",
              "  .colab-df-quickchart:hover {\n",
              "    background-color: var(--hover-bg-color);\n",
              "    box-shadow: 0 1px 2px rgba(60, 64, 67, 0.3), 0 1px 3px 1px rgba(60, 64, 67, 0.15);\n",
              "    fill: var(--button-hover-fill-color);\n",
              "  }\n",
              "\n",
              "  .colab-df-quickchart-complete:disabled,\n",
              "  .colab-df-quickchart-complete:disabled:hover {\n",
              "    background-color: var(--disabled-bg-color);\n",
              "    fill: var(--disabled-fill-color);\n",
              "    box-shadow: none;\n",
              "  }\n",
              "\n",
              "  .colab-df-spinner {\n",
              "    border: 2px solid var(--fill-color);\n",
              "    border-color: transparent;\n",
              "    border-bottom-color: var(--fill-color);\n",
              "    animation:\n",
              "      spin 1s steps(1) infinite;\n",
              "  }\n",
              "\n",
              "  @keyframes spin {\n",
              "    0% {\n",
              "      border-color: transparent;\n",
              "      border-bottom-color: var(--fill-color);\n",
              "      border-left-color: var(--fill-color);\n",
              "    }\n",
              "    20% {\n",
              "      border-color: transparent;\n",
              "      border-left-color: var(--fill-color);\n",
              "      border-top-color: var(--fill-color);\n",
              "    }\n",
              "    30% {\n",
              "      border-color: transparent;\n",
              "      border-left-color: var(--fill-color);\n",
              "      border-top-color: var(--fill-color);\n",
              "      border-right-color: var(--fill-color);\n",
              "    }\n",
              "    40% {\n",
              "      border-color: transparent;\n",
              "      border-right-color: var(--fill-color);\n",
              "      border-top-color: var(--fill-color);\n",
              "    }\n",
              "    60% {\n",
              "      border-color: transparent;\n",
              "      border-right-color: var(--fill-color);\n",
              "    }\n",
              "    80% {\n",
              "      border-color: transparent;\n",
              "      border-right-color: var(--fill-color);\n",
              "      border-bottom-color: var(--fill-color);\n",
              "    }\n",
              "    90% {\n",
              "      border-color: transparent;\n",
              "      border-bottom-color: var(--fill-color);\n",
              "    }\n",
              "  }\n",
              "</style>\n",
              "\n",
              "  <script>\n",
              "    async function quickchart(key) {\n",
              "      const quickchartButtonEl =\n",
              "        document.querySelector('#' + key + ' button');\n",
              "      quickchartButtonEl.disabled = true;  // To prevent multiple clicks.\n",
              "      quickchartButtonEl.classList.add('colab-df-spinner');\n",
              "      try {\n",
              "        const charts = await google.colab.kernel.invokeFunction(\n",
              "            'suggestCharts', [key], {});\n",
              "      } catch (error) {\n",
              "        console.error('Error during call to suggestCharts:', error);\n",
              "      }\n",
              "      quickchartButtonEl.classList.remove('colab-df-spinner');\n",
              "      quickchartButtonEl.classList.add('colab-df-quickchart-complete');\n",
              "    }\n",
              "    (() => {\n",
              "      let quickchartButtonEl =\n",
              "        document.querySelector('#df-2f1c427a-2e3b-43d4-8f63-db5b40398f44 button');\n",
              "      quickchartButtonEl.style.display =\n",
              "        google.colab.kernel.accessAllowed ? 'block' : 'none';\n",
              "    })();\n",
              "  </script>\n",
              "</div>\n",
              "    </div>\n",
              "  </div>\n"
            ]
          },
          "metadata": {},
          "execution_count": 146
        }
      ]
    },
    {
      "cell_type": "code",
      "source": [
        "decomposition = sm.tsa.seasonal_decompose(df.CSUSHPISA,model='additive', extrapolate_trend='freq', period=1)\n",
        "\n",
        "trend = decomposition.trend\n",
        "seasonal = decomposition.seasonal\n",
        "residual = decomposition.resid\n",
        "\n",
        "fig = plt.figure(figsize=(20,8))\n",
        "\n",
        "plt.subplot(411)\n",
        "plt.plot(df.CSUSHPISA, label='Original')\n",
        "plt.legend(loc='best')\n",
        "plt.subplot(412)\n",
        "plt.plot(trend, label='Trend')\n",
        "plt.legend(loc='best')\n",
        "plt.subplot(413)\n",
        "plt.plot(seasonal,label='Seasonality')\n",
        "plt.legend(loc='best')\n",
        "plt.subplot(414)\n",
        "plt.plot(residual, label='Residuals')\n",
        "plt.legend(loc='best')\n",
        "\n",
        "fig.suptitle('Decomposition of Prices Data')\n",
        "plt.show()"
      ],
      "metadata": {
        "colab": {
          "base_uri": "https://localhost:8080/",
          "height": 584
        },
        "id": "xLJOD3Fus5xi",
        "outputId": "d432ea65-409e-44ea-f3c8-11d572918dbc"
      },
      "execution_count": 145,
      "outputs": [
        {
          "output_type": "display_data",
          "data": {
            "text/plain": [
              "<Figure size 2800x1120 with 4 Axes>"
            ],
            "image/png": "[encoded data removed]"
          },
          "metadata": {}
        }
      ]
    },
    {
      "cell_type": "code",
      "source": [
        "print(\"Dickey–Fuller test: p=%f\" % sm.tsa.stattools.adfuller(df.CSUSHPISA)[1])"
      ],
      "metadata": {
        "colab": {
          "base_uri": "https://localhost:8080/"
        },
        "id": "K4CNQDiexzI9",
        "outputId": "7ff315b1-4632-4c99-8171-5317a79de166"
      },
      "execution_count": 147,
      "outputs": [
        {
          "output_type": "stream",
          "name": "stdout",
          "text": [
            "Dickey–Fuller test: p=0.994589\n"
          ]
        }
      ]
    },
    {
      "cell_type": "code",
      "source": [
        "from statsmodels.graphics.tsaplots import plot_acf\n",
        "from statsmodels.graphics.tsaplots import plot_pacf\n",
        "from matplotlib import pyplot\n",
        "pyplot.figure(figsize=(20,8))\n",
        "pyplot.subplot(211)\n",
        "plot_acf(df.CSUSHPISA, ax=pyplot.gca())\n",
        "pyplot.subplot(212)\n",
        "plot_pacf(df.CSUSHPISA, ax=pyplot.gca())\n",
        "pyplot.show()"
      ],
      "metadata": {
        "colab": {
          "base_uri": "https://localhost:8080/",
          "height": 538
        },
        "id": "iuJCMrDlx5OW",
        "outputId": "f0dd0f91-e63e-476b-b213-d47f492e04e8"
      },
      "execution_count": 148,
      "outputs": [
        {
          "output_type": "display_data",
          "data": {
            "text/plain": [
              "<Figure size 2800x1120 with 2 Axes>"
            ],
            "image/png": "[encoded data removed]"
          },
          "metadata": {}
        }
      ]
    },
    {
      "cell_type": "code",
      "source": [
        "# Initial approximation of parameters\n",
        "Qs = range(0, 2)\n",
        "qs = range(0, 3)\n",
        "Ps = range(0, 3)\n",
        "ps = range(0, 3)\n",
        "D=1\n",
        "d=1\n",
        "parameters = product(ps, qs, Ps, Qs)\n",
        "parameters_list = list(parameters)\n",
        "len(parameters_list)\n",
        "\n",
        "# Model Selection\n",
        "results = []\n",
        "best_aic = float(\"inf\")\n",
        "warnings.filterwarnings('ignore')\n",
        "for param in parameters_list:\n",
        "    try:\n",
        "        model=sm.tsa.statespace.SARIMAX(df.CSUSHPISA, order=(param[0], d, param[1]),\n",
        "                                        seasonal_order=(param[2], D, param[3], 12),enforce_stationarity=False,\n",
        "                                            enforce_invertibility=False).fit(disp=-1)\n",
        "    except ValueError:\n",
        "        print('wrong parameters:', param)\n",
        "        continue\n",
        "    aic = model.aic\n",
        "    if aic < best_aic:\n",
        "        best_model = model\n",
        "        best_aic = aic\n",
        "        best_param = param\n",
        "    results.append([param, model.aic])"
      ],
      "metadata": {
        "id": "2vxy3DzPyCYm"
      },
      "execution_count": 149,
      "outputs": []
    },
    {
      "cell_type": "code",
      "source": [
        "# Best Models\n",
        "result_table = pd.DataFrame(results)\n",
        "result_table.columns = ['parameters', 'aic']\n",
        "print(result_table.sort_values(by = 'aic', ascending=True).head())\n",
        "print(best_model.summary())"
      ],
      "metadata": {
        "colab": {
          "base_uri": "https://localhost:8080/"
        },
        "id": "4cJlZsI-yUZ9",
        "outputId": "a3165047-5cee-467f-90e4-0efe7e2d7b08"
      },
      "execution_count": 150,
      "outputs": [
        {
          "output_type": "stream",
          "name": "stdout",
          "text": [
            "      parameters         aic\n",
            "31  (1, 2, 0, 1)  251.110186\n",
            "49  (2, 2, 0, 1)  252.451914\n",
            "33  (1, 2, 1, 1)  257.016963\n",
            "35  (1, 2, 2, 1)  257.708896\n",
            "51  (2, 2, 1, 1)  258.111377\n",
            "                                      SARIMAX Results                                       \n",
            "============================================================================================\n",
            "Dep. Variable:                            CSUSHPISA   No. Observations:                  439\n",
            "Model:             SARIMAX(1, 1, 2)x(0, 1, [1], 12)   Log Likelihood                -120.555\n",
            "Date:                              Tue, 26 Sep 2023   AIC                            251.110\n",
            "Time:                                      19:47:13   BIC                            271.203\n",
            "Sample:                                  01-01-1987   HQIC                           259.059\n",
            "                                       - 07-01-2023                                         \n",
            "Covariance Type:                                opg                                         \n",
            "==============================================================================\n",
            "                 coef    std err          z      P>|z|      [0.025      0.975]\n",
            "------------------------------------------------------------------------------\n",
            "ar.L1          0.8780      0.016     54.269      0.000       0.846       0.910\n",
            "ma.L1          0.4211      0.029     14.523      0.000       0.364       0.478\n",
            "ma.L2          0.2789      0.027     10.350      0.000       0.226       0.332\n",
            "ma.S.L12      -1.3050      0.041    -31.548      0.000      -1.386      -1.224\n",
            "sigma2         0.0611      0.004     15.084      0.000       0.053       0.069\n",
            "===================================================================================\n",
            "Ljung-Box (L1) (Q):                   0.02   Jarque-Bera (JB):              1534.52\n",
            "Prob(Q):                              0.89   Prob(JB):                         0.00\n",
            "Heteroskedasticity (H):              32.61   Skew:                             0.08\n",
            "Prob(H) (two-sided):                  0.00   Kurtosis:                        12.46\n",
            "===================================================================================\n",
            "\n",
            "Warnings:\n",
            "[1] Covariance matrix calculated using the outer product of gradients (complex-step).\n"
          ]
        }
      ]
    },
    {
      "cell_type": "code",
      "source": [
        "fig = plt.figure(figsize=(20,8))\n",
        "best_model.resid.plot()\n",
        "fig.suptitle('Residual Plot of the Best Model')\n",
        "print(\"Dickey–Fuller test:: p=%f\" % sm.tsa.stattools.adfuller(best_model.resid)[1])"
      ],
      "metadata": {
        "colab": {
          "base_uri": "https://localhost:8080/",
          "height": 620
        },
        "id": "WqVUZmBzyXg0",
        "outputId": "9bc673c5-4ed5-4be2-dcdc-2c729f756a1c"
      },
      "execution_count": 151,
      "outputs": [
        {
          "output_type": "stream",
          "name": "stdout",
          "text": [
            "Dickey–Fuller test:: p=0.000000\n"
          ]
        },
        {
          "output_type": "display_data",
          "data": {
            "text/plain": [
              "<Figure size 2800x1120 with 1 Axes>"
            ],
            "image/png": "[encoded data removed]"
          },
          "metadata": {}
        }
      ]
    },
    {
      "cell_type": "code",
      "source": [
        "df_month2 = df[['CSUSHPISA']]\n",
        "future = pd.DataFrame()\n",
        "df_month2 = pd.concat([df_month2, future])\n",
        "df_month2['forecast'] = best_model.predict()\n",
        "plt.figure(figsize=(15,7))\n",
        "df_month2.CSUSHPISA.plot()\n",
        "df_month2.forecast.plot(color='r', ls='--', label='Predicted Close')\n",
        "plt.legend()\n",
        "plt.title('Predicted vs Actuals, by months')\n",
        "plt.ylabel('mean USD')\n",
        "plt.show()"
      ],
      "metadata": {
        "colab": {
          "base_uri": "https://localhost:8080/",
          "height": 642
        },
        "id": "bhp4f_Hbyb_c",
        "outputId": "9fa1adc9-7978-4ee6-f56c-a028c2aaf444"
      },
      "execution_count": 153,
      "outputs": [
        {
          "output_type": "display_data",
          "data": {
            "text/plain": [
              "<Figure size 2100x980 with 1 Axes>"
            ],
            "image/png": "[encoded data removed]"
          },
          "metadata": {}
        }
      ]
    },
    {
      "cell_type": "markdown",
      "source": [
        "Prediction for Price"
      ],
      "metadata": {
        "id": "1M-EEHiey9XC"
      }
    },
    {
      "cell_type": "code",
      "source": [
        "df_month2.tail(20)"
      ],
      "metadata": {
        "colab": {
          "base_uri": "https://localhost:8080/",
          "height": 708
        },
        "id": "CWhD7QN_y14g",
        "outputId": "57c10ed7-dd24-41b9-ffc7-fd50cd366803"
      },
      "execution_count": 154,
      "outputs": [
        {
          "output_type": "execute_result",
          "data": {
            "text/plain": [
              "            CSUSHPISA    forecast\n",
              "DATE                             \n",
              "2021-12-01    281.348  280.627566\n",
              "2022-01-01    285.829  285.406545\n",
              "2022-02-01    290.924  290.043771\n",
              "2022-03-01    296.228  296.152096\n",
              "2022-04-01    300.569  301.451126\n",
              "2022-05-01    303.863  304.324279\n",
              "2022-06-01    304.832  306.687486\n",
              "2022-07-01    303.800  305.024167\n",
              "2022-08-01    301.637  302.361497\n",
              "2022-09-01    299.440  299.208973\n",
              "2022-10-01    299.033  297.722573\n",
              "2022-11-01    298.350  299.434221\n",
              "2022-12-01    297.425  298.018440\n",
              "2023-01-01    296.922  296.330253\n",
              "2023-02-01    297.273  296.759665\n",
              "2023-03-01    298.396  298.360286\n",
              "2023-04-01    300.208  299.687462\n",
              "2023-05-01    302.685  302.132496\n",
              "2023-06-01    304.741  305.073746\n",
              "2023-07-01    306.720  306.312839"
            ],
            "text/html": [
              "\n",
              "  <div id=\"df-b822a93c-ce78-4342-b08e-c13eecfe60ad\" class=\"colab-df-container\">\n",
              "    <div>\n",
              "<style scoped>\n",
              "    .dataframe tbody tr th:only-of-type {\n",
              "        vertical-align: middle;\n",
              "    }\n",
              "\n",
              "    .dataframe tbody tr th {\n",
              "        vertical-align: top;\n",
              "    }\n",
              "\n",
              "    .dataframe thead th {\n",
              "        text-align: right;\n",
              "    }\n",
              "</style>\n",
              "<table border=\"1\" class=\"dataframe\">\n",
              "  <thead>\n",
              "    <tr style=\"text-align: right;\">\n",
              "      <th></th>\n",
              "      <th>CSUSHPISA</th>\n",
              "      <th>forecast</th>\n",
              "    </tr>\n",
              "    <tr>\n",
              "      <th>DATE</th>\n",
              "      <th></th>\n",
              "      <th></th>\n",
              "    </tr>\n",
              "  </thead>\n",
              "  <tbody>\n",
              "    <tr>\n",
              "      <th>2021-12-01</th>\n",
              "      <td>281.348</td>\n",
              "      <td>280.627566</td>\n",
              "    </tr>\n",
              "    <tr>\n",
              "      <th>2022-01-01</th>\n",
              "      <td>285.829</td>\n",
              "      <td>285.406545</td>\n",
              "    </tr>\n",
              "    <tr>\n",
              "      <th>2022-02-01</th>\n",
              "      <td>290.924</td>\n",
              "      <td>290.043771</td>\n",
              "    </tr>\n",
              "    <tr>\n",
              "      <th>2022-03-01</th>\n",
              "      <td>296.228</td>\n",
              "      <td>296.152096</td>\n",
              "    </tr>\n",
              "    <tr>\n",
              "      <th>2022-04-01</th>\n",
              "      <td>300.569</td>\n",
              "      <td>301.451126</td>\n",
              "    </tr>\n",
              "    <tr>\n",
              "      <th>2022-05-01</th>\n",
              "      <td>303.863</td>\n",
              "      <td>304.324279</td>\n",
              "    </tr>\n",
              "    <tr>\n",
              "      <th>2022-06-01</th>\n",
              "      <td>304.832</td>\n",
              "      <td>306.687486</td>\n",
              "    </tr>\n",
              "    <tr>\n",
              "      <th>2022-07-01</th>\n",
              "      <td>303.800</td>\n",
              "      <td>305.024167</td>\n",
              "    </tr>\n",
              "    <tr>\n",
              "      <th>2022-08-01</th>\n",
              "      <td>301.637</td>\n",
              "      <td>302.361497</td>\n",
              "    </tr>\n",
              "    <tr>\n",
              "      <th>2022-09-01</th>\n",
              "      <td>299.440</td>\n",
              "      <td>299.208973</td>\n",
              "    </tr>\n",
              "    <tr>\n",
              "      <th>2022-10-01</th>\n",
              "      <td>299.033</td>\n",
              "      <td>297.722573</td>\n",
              "    </tr>\n",
              "    <tr>\n",
              "      <th>2022-11-01</th>\n",
              "      <td>298.350</td>\n",
              "      <td>299.434221</td>\n",
              "    </tr>\n",
              "    <tr>\n",
              "      <th>2022-12-01</th>\n",
              "      <td>297.425</td>\n",
              "      <td>298.018440</td>\n",
              "    </tr>\n",
              "    <tr>\n",
              "      <th>2023-01-01</th>\n",
              "      <td>296.922</td>\n",
              "      <td>296.330253</td>\n",
              "    </tr>\n",
              "    <tr>\n",
              "      <th>2023-02-01</th>\n",
              "      <td>297.273</td>\n",
              "      <td>296.759665</td>\n",
              "    </tr>\n",
              "    <tr>\n",
              "      <th>2023-03-01</th>\n",
              "      <td>298.396</td>\n",
              "      <td>298.360286</td>\n",
              "    </tr>\n",
              "    <tr>\n",
              "      <th>2023-04-01</th>\n",
              "      <td>300.208</td>\n",
              "      <td>299.687462</td>\n",
              "    </tr>\n",
              "    <tr>\n",
              "      <th>2023-05-01</th>\n",
              "      <td>302.685</td>\n",
              "      <td>302.132496</td>\n",
              "    </tr>\n",
              "    <tr>\n",
              "      <th>2023-06-01</th>\n",
              "      <td>304.741</td>\n",
              "      <td>305.073746</td>\n",
              "    </tr>\n",
              "    <tr>\n",
              "      <th>2023-07-01</th>\n",
              "      <td>306.720</td>\n",
              "      <td>306.312839</td>\n",
              "    </tr>\n",
              "  </tbody>\n",
              "</table>\n",
              "</div>\n",
              "    <div class=\"colab-df-buttons\">\n",
              "\n",
              "  <div class=\"colab-df-container\">\n",
              "    <button class=\"colab-df-convert\" onclick=\"convertToInteractive('df-b822a93c-ce78-4342-b08e-c13eecfe60ad')\"\n",
              "            title=\"Convert this dataframe to an interactive table.\"\n",
              "            style=\"display:none;\">\n",
              "\n",
              "  <svg xmlns=\"http://www.w3.org/2000/svg\" height=\"24px\" viewBox=\"0 -960 960 960\">\n",
              "    <path d=\"M120-120v-720h720v720H120Zm60-500h600v-160H180v160Zm220 220h160v-160H400v160Zm0 220h160v-160H400v160ZM180-400h160v-160H180v160Zm440 0h160v-160H620v160ZM180-180h160v-160H180v160Zm440 0h160v-160H620v160Z\"/>\n",
              "  </svg>\n",
              "    </button>\n",
              "\n",
              "  <style>\n",
              "    .colab-df-container {\n",
              "      display:flex;\n",
              "      gap: 12px;\n",
              "    }\n",
              "\n",
              "    .colab-df-convert {\n",
              "      background-color: #E8F0FE;\n",
              "      border: none;\n",
              "      border-radius: 50%;\n",
              "      cursor: pointer;\n",
              "      display: none;\n",
              "      fill: #1967D2;\n",
              "      height: 32px;\n",
              "      padding: 0 0 0 0;\n",
              "      width: 32px;\n",
              "    }\n",
              "\n",
              "    .colab-df-convert:hover {\n",
              "      background-color: #E2EBFA;\n",
              "      box-shadow: 0px 1px 2px rgba(60, 64, 67, 0.3), 0px 1px 3px 1px rgba(60, 64, 67, 0.15);\n",
              "      fill: #174EA6;\n",
              "    }\n",
              "\n",
              "    .colab-df-buttons div {\n",
              "      margin-bottom: 4px;\n",
              "    }\n",
              "\n",
              "    [theme=dark] .colab-df-convert {\n",
              "      background-color: #3B4455;\n",
              "      fill: #D2E3FC;\n",
              "    }\n",
              "\n",
              "    [theme=dark] .colab-df-convert:hover {\n",
              "      background-color: #434B5C;\n",
              "      box-shadow: 0px 1px 3px 1px rgba(0, 0, 0, 0.15);\n",
              "      filter: drop-shadow(0px 1px 2px rgba(0, 0, 0, 0.3));\n",
              "      fill: #FFFFFF;\n",
              "    }\n",
              "  </style>\n",
              "\n",
              "    <script>\n",
              "      const buttonEl =\n",
              "        document.querySelector('#df-b822a93c-ce78-4342-b08e-c13eecfe60ad button.colab-df-convert');\n",
              "      buttonEl.style.display =\n",
              "        google.colab.kernel.accessAllowed ? 'block' : 'none';\n",
              "\n",
              "      async function convertToInteractive(key) {\n",
              "        const element = document.querySelector('#df-b822a93c-ce78-4342-b08e-c13eecfe60ad');\n",
              "        const dataTable =\n",
              "          await google.colab.kernel.invokeFunction('convertToInteractive',\n",
              "                                                    [key], {});\n",
              "        if (!dataTable) return;\n",
              "\n",
              "        const docLinkHtml = 'Like what you see? Visit the ' +\n",
              "          '<a target=\"_blank\" href=https://colab.research.google.com/notebooks/data_table.ipynb>data table notebook</a>'\n",
              "          + ' to learn more about interactive tables.';\n",
              "        element.innerHTML = '';\n",
              "        dataTable['output_type'] = 'display_data';\n",
              "        await google.colab.output.renderOutput(dataTable, element);\n",
              "        const docLink = document.createElement('div');\n",
              "        docLink.innerHTML = docLinkHtml;\n",
              "        element.appendChild(docLink);\n",
              "      }\n",
              "    </script>\n",
              "  </div>\n",
              "\n",
              "\n",
              "<div id=\"df-17779e01-ecda-43a9-88f3-b5a85f9e2cb0\">\n",
              "  <button class=\"colab-df-quickchart\" onclick=\"quickchart('df-17779e01-ecda-43a9-88f3-b5a85f9e2cb0')\"\n",
              "            title=\"Suggest charts.\"\n",
              "            style=\"display:none;\">\n",
              "\n",
              "<svg xmlns=\"http://www.w3.org/2000/svg\" height=\"24px\"viewBox=\"0 0 24 24\"\n",
              "     width=\"24px\">\n",
              "    <g>\n",
              "        <path d=\"M19 3H5c-1.1 0-2 .9-2 2v14c0 1.1.9 2 2 2h14c1.1 0 2-.9 2-2V5c0-1.1-.9-2-2-2zM9 17H7v-7h2v7zm4 0h-2V7h2v10zm4 0h-2v-4h2v4z\"/>\n",
              "    </g>\n",
              "</svg>\n",
              "  </button>\n",
              "\n",
              "<style>\n",
              "  .colab-df-quickchart {\n",
              "      --bg-color: #E8F0FE;\n",
              "      --fill-color: #1967D2;\n",
              "      --hover-bg-color: #E2EBFA;\n",
              "      --hover-fill-color: #174EA6;\n",
              "      --disabled-fill-color: #AAA;\n",
              "      --disabled-bg-color: #DDD;\n",
              "  }\n",
              "\n",
              "  [theme=dark] .colab-df-quickchart {\n",
              "      --bg-color: #3B4455;\n",
              "      --fill-color: #D2E3FC;\n",
              "      --hover-bg-color: #434B5C;\n",
              "      --hover-fill-color: #FFFFFF;\n",
              "      --disabled-bg-color: #3B4455;\n",
              "      --disabled-fill-color: #666;\n",
              "  }\n",
              "\n",
              "  .colab-df-quickchart {\n",
              "    background-color: var(--bg-color);\n",
              "    border: none;\n",
              "    border-radius: 50%;\n",
              "    cursor: pointer;\n",
              "    display: none;\n",
              "    fill: var(--fill-color);\n",
              "    height: 32px;\n",
              "    padding: 0;\n",
              "    width: 32px;\n",
              "  }\n",
              "\n",
              "  .colab-df-quickchart:hover {\n",
              "    background-color: var(--hover-bg-color);\n",
              "    box-shadow: 0 1px 2px rgba(60, 64, 67, 0.3), 0 1px 3px 1px rgba(60, 64, 67, 0.15);\n",
              "    fill: var(--button-hover-fill-color);\n",
              "  }\n",
              "\n",
              "  .colab-df-quickchart-complete:disabled,\n",
              "  .colab-df-quickchart-complete:disabled:hover {\n",
              "    background-color: var(--disabled-bg-color);\n",
              "    fill: var(--disabled-fill-color);\n",
              "    box-shadow: none;\n",
              "  }\n",
              "\n",
              "  .colab-df-spinner {\n",
              "    border: 2px solid var(--fill-color);\n",
              "    border-color: transparent;\n",
              "    border-bottom-color: var(--fill-color);\n",
              "    animation:\n",
              "      spin 1s steps(1) infinite;\n",
              "  }\n",
              "\n",
              "  @keyframes spin {\n",
              "    0% {\n",
              "      border-color: transparent;\n",
              "      border-bottom-color: var(--fill-color);\n",
              "      border-left-color: var(--fill-color);\n",
              "    }\n",
              "    20% {\n",
              "      border-color: transparent;\n",
              "      border-left-color: var(--fill-color);\n",
              "      border-top-color: var(--fill-color);\n",
              "    }\n",
              "    30% {\n",
              "      border-color: transparent;\n",
              "      border-left-color: var(--fill-color);\n",
              "      border-top-color: var(--fill-color);\n",
              "      border-right-color: var(--fill-color);\n",
              "    }\n",
              "    40% {\n",
              "      border-color: transparent;\n",
              "      border-right-color: var(--fill-color);\n",
              "      border-top-color: var(--fill-color);\n",
              "    }\n",
              "    60% {\n",
              "      border-color: transparent;\n",
              "      border-right-color: var(--fill-color);\n",
              "    }\n",
              "    80% {\n",
              "      border-color: transparent;\n",
              "      border-right-color: var(--fill-color);\n",
              "      border-bottom-color: var(--fill-color);\n",
              "    }\n",
              "    90% {\n",
              "      border-color: transparent;\n",
              "      border-bottom-color: var(--fill-color);\n",
              "    }\n",
              "  }\n",
              "</style>\n",
              "\n",
              "  <script>\n",
              "    async function quickchart(key) {\n",
              "      const quickchartButtonEl =\n",
              "        document.querySelector('#' + key + ' button');\n",
              "      quickchartButtonEl.disabled = true;  // To prevent multiple clicks.\n",
              "      quickchartButtonEl.classList.add('colab-df-spinner');\n",
              "      try {\n",
              "        const charts = await google.colab.kernel.invokeFunction(\n",
              "            'suggestCharts', [key], {});\n",
              "      } catch (error) {\n",
              "        console.error('Error during call to suggestCharts:', error);\n",
              "      }\n",
              "      quickchartButtonEl.classList.remove('colab-df-spinner');\n",
              "      quickchartButtonEl.classList.add('colab-df-quickchart-complete');\n",
              "    }\n",
              "    (() => {\n",
              "      let quickchartButtonEl =\n",
              "        document.querySelector('#df-17779e01-ecda-43a9-88f3-b5a85f9e2cb0 button');\n",
              "      quickchartButtonEl.style.display =\n",
              "        google.colab.kernel.accessAllowed ? 'block' : 'none';\n",
              "    })();\n",
              "  </script>\n",
              "</div>\n",
              "    </div>\n",
              "  </div>\n"
            ]
          },
          "metadata": {},
          "execution_count": 154
        }
      ]
    },
    {
      "cell_type": "code",
      "source": [
        "from datetime import timedelta\n",
        "\n",
        "# Forecast next 7 days\n",
        "forecast_steps = 7\n",
        "forecast = best_model.forecast(steps=forecast_steps)\n",
        "\n",
        "# Generate date index for the forecast\n",
        "last_date = datetime.strptime(df_month2.index[-1],'%Y-%m-%d')\n",
        "forecast_dates = pd.date_range(start=last_date + timedelta(days=7), periods=forecast_steps, freq='D')\n",
        "\n",
        "# Create a forecast series with dates as index\n",
        "forecast_series = pd.Series(forecast, index=forecast_dates)\n",
        "\n",
        "# Plot the original time series and the forecast\n",
        "plt.figure(figsize=(10, 6))\n",
        "plt.plot(forecast, label='Actual')\n",
        "plt.xlabel('Date')\n",
        "plt.ylabel('Value')\n",
        "plt.title('Time Series Forecasting with ARIMA')\n",
        "plt.legend()\n",
        "plt.show()"
      ],
      "metadata": {
        "colab": {
          "base_uri": "https://localhost:8080/",
          "height": 780
        },
        "id": "q3NpfWzyzAhC",
        "outputId": "8f820ca3-8fef-41b4-9c99-a60d7443cdcf"
      },
      "execution_count": 168,
      "outputs": [
        {
          "output_type": "display_data",
          "data": {
            "text/plain": [
              "<Figure size 1400x840 with 1 Axes>"
            ],
            "image/png": "[encoded data removed]"
          },
          "metadata": {}
        }
      ]
    },
    {
      "cell_type": "markdown",
      "source": [
        "Home Price Index"
      ],
      "metadata": {
        "id": "Y13Uzfn0FaO0"
      }
    },
    {
      "cell_type": "markdown",
      "source": [
        "THE END"
      ],
      "metadata": {
        "id": "iXLe37FTFJ-a"
      }
    }
  ]
}